{
 "cells": [
  {
   "cell_type": "code",
   "execution_count": 1,
   "id": "b40b3392",
   "metadata": {},
   "outputs": [],
   "source": [
    "# TODO: get rid of hacks like this by adding a setup.py scripts to base and installing the package\n",
    "import os\n",
    "import sys\n",
    "module_path = os.path.abspath(os.path.join('..'))\n",
    "if module_path not in sys.path:\n",
    "    sys.path.append(module_path)"
   ]
  },
  {
   "cell_type": "code",
   "execution_count": 2,
   "id": "ab04482b",
   "metadata": {},
   "outputs": [],
   "source": [
    "%load_ext autoreload\n",
    "%autoreload 2\n",
    "%matplotlib inline"
   ]
  },
  {
   "cell_type": "code",
   "execution_count": 3,
   "id": "b9871eaf",
   "metadata": {},
   "outputs": [],
   "source": [
    "from pykeen.triples import TriplesFactory\n",
    "from dataset import load_lnctard, create_splits, df2nx\n",
    "import pandas as pd\n",
    "import networkx as nx\n",
    "import matplotlib.pyplot as plt\n",
    "import numpy as np"
   ]
  },
  {
   "cell_type": "code",
   "execution_count": 5,
   "id": "4f59b9b6",
   "metadata": {},
   "outputs": [],
   "source": [
    "DATA_DIR = \"../data\""
   ]
  },
  {
   "cell_type": "code",
   "execution_count": 6,
   "id": "22f9aaff",
   "metadata": {},
   "outputs": [],
   "source": [
    "df = load_lnctard('../data/lnctard2.0.txt', cols=\"Regulator\tSearchregulatoryMechanism\tTarget\".split())"
   ]
  },
  {
   "cell_type": "code",
   "execution_count": 7,
   "id": "d6bb832e",
   "metadata": {},
   "outputs": [
    {
     "data": {
      "text/html": [
       "<div>\n",
       "<style scoped>\n",
       "    .dataframe tbody tr th:only-of-type {\n",
       "        vertical-align: middle;\n",
       "    }\n",
       "\n",
       "    .dataframe tbody tr th {\n",
       "        vertical-align: top;\n",
       "    }\n",
       "\n",
       "    .dataframe thead th {\n",
       "        text-align: right;\n",
       "    }\n",
       "</style>\n",
       "<table border=\"1\" class=\"dataframe\">\n",
       "  <thead>\n",
       "    <tr style=\"text-align: right;\">\n",
       "      <th></th>\n",
       "      <th>Regulator</th>\n",
       "      <th>SearchregulatoryMechanism</th>\n",
       "      <th>Target</th>\n",
       "    </tr>\n",
       "  </thead>\n",
       "  <tbody>\n",
       "    <tr>\n",
       "      <th>0</th>\n",
       "      <td>LINC00313</td>\n",
       "      <td>ceRNA or sponge</td>\n",
       "      <td>miR-4429</td>\n",
       "    </tr>\n",
       "    <tr>\n",
       "      <th>1</th>\n",
       "      <td>FAM83H-AS1</td>\n",
       "      <td>epigenetic regulation</td>\n",
       "      <td>CDKN1A</td>\n",
       "    </tr>\n",
       "    <tr>\n",
       "      <th>2</th>\n",
       "      <td>NEAT1</td>\n",
       "      <td>ceRNA or sponge</td>\n",
       "      <td>TGFB1</td>\n",
       "    </tr>\n",
       "    <tr>\n",
       "      <th>3</th>\n",
       "      <td>NEAT1</td>\n",
       "      <td>ceRNA or sponge</td>\n",
       "      <td>ZEB1</td>\n",
       "    </tr>\n",
       "    <tr>\n",
       "      <th>4</th>\n",
       "      <td>ZFPM2-AS1</td>\n",
       "      <td>interact with protein</td>\n",
       "      <td>MIF</td>\n",
       "    </tr>\n",
       "  </tbody>\n",
       "</table>\n",
       "</div>"
      ],
      "text/plain": [
       "    Regulator SearchregulatoryMechanism    Target\n",
       "0   LINC00313           ceRNA or sponge  miR-4429\n",
       "1  FAM83H-AS1     epigenetic regulation    CDKN1A\n",
       "2       NEAT1           ceRNA or sponge     TGFB1\n",
       "3       NEAT1           ceRNA or sponge      ZEB1\n",
       "4   ZFPM2-AS1     interact with protein       MIF"
      ]
     },
     "execution_count": 7,
     "metadata": {},
     "output_type": "execute_result"
    }
   ],
   "source": [
    "df.head()"
   ]
  },
  {
   "cell_type": "code",
   "execution_count": 8,
   "id": "ee3c9d7f",
   "metadata": {},
   "outputs": [],
   "source": [
    "G = df2nx(\n",
    "  df,\n",
    "  head=\"Regulator\", tail=\"Target\", relation=\"SearchregulatoryMechanism\",\n",
    "  cc_mode=\"largest\",\n",
    ")"
   ]
  },
  {
   "cell_type": "code",
   "execution_count": 9,
   "id": "2c95dd3d",
   "metadata": {},
   "outputs": [],
   "source": [
    "dataset = np.array([(h,r,t) for h,t,r in G.edges(data=\"SearchregulatoryMechanism\")])"
   ]
  },
  {
   "cell_type": "code",
   "execution_count": 10,
   "id": "07d57d4d",
   "metadata": {},
   "outputs": [
    {
     "data": {
      "text/plain": [
       "'dataset contains 7144 triples'"
      ]
     },
     "execution_count": 10,
     "metadata": {},
     "output_type": "execute_result"
    }
   ],
   "source": [
    "f\"dataset contains {len(dataset)} triples\""
   ]
  },
  {
   "cell_type": "code",
   "execution_count": 11,
   "id": "0541b31a",
   "metadata": {},
   "outputs": [],
   "source": [
    "splitnames = \"train_m train_s val test\".split()"
   ]
  },
  {
   "cell_type": "code",
   "execution_count": 18,
   "id": "eb08f633",
   "metadata": {},
   "outputs": [
    {
     "name": "stdout",
     "output_type": "stream",
     "text": [
      "14:36:12   done splitting triples to groups of sizes [2880, 714, 715]\n"
     ]
    },
    {
     "name": "stdout",
     "output_type": "stream",
     "text": [
      "14:36:12   done splitting triples to groups of sizes [1737, 1143]\n",
      "train_m contains 4572 triples (64.00%)\n",
      "train_s contains 1143 triples (16.00%)\n",
      "val contains 714 triples (9.99%)\n",
      "test contains 715 triples (10.01%)\n"
     ]
    }
   ],
   "source": [
    "splits = dict(zip(splitnames, create_splits(dataset)))\n",
    "for splitname, subset in splits.items():\n",
    "  id2ent, id2rel = subset.entity_labeling.id_to_label, subset.relation_labeling.id_to_label\n",
    "  pd.DataFrame(\n",
    "    [(id2ent[h.item()], id2rel[r.item()], id2ent[t.item()]) for h,r,t in subset.mapped_triples],\n",
    "    columns=[\"head\", \"relation\", \"tail\"],\n",
    "  ).to_csv(os.path.join(DATA_DIR, f\"{splitname}.tsv\"), sep=\"\\t\", index=None)\n",
    "  print(splitname, \"contains\", len(subset.mapped_triples), \"triples (%.02f%%)\" % (len(subset.mapped_triples)/len(dataset)*100))"
   ]
  },
  {
   "cell_type": "code",
   "execution_count": 22,
   "id": "d6ad82ab",
   "metadata": {},
   "outputs": [
    {
     "data": {
      "text/plain": [
       "'total train set size: 5715'"
      ]
     },
     "execution_count": 22,
     "metadata": {},
     "output_type": "execute_result"
    }
   ],
   "source": [
    "f'total train set size: {len(splits[\"train_m\"].mapped_triples) + len(splits[\"train_s\"].mapped_triples)}'"
   ]
  },
  {
   "cell_type": "code",
   "execution_count": 174,
   "id": "84d4ad63",
   "metadata": {},
   "outputs": [
    {
     "name": "stdout",
     "output_type": "stream",
     "text": [
      "111\n",
      "46\n",
      "56\n",
      "46\n"
     ]
    },
    {
     "data": {
      "image/png": "[encoded data removed]",
      "text/plain": [
       "<Figure size 640x480 with 4 Axes>"
      ]
     },
     "metadata": {},
     "output_type": "display_data"
    }
   ],
   "source": [
    "for idx, splitname in enumerate(splitnames):\n",
    "  df = pd.read_csv(os.path.join(DATA_DIR, f\"{splitname}.tsv\"), sep=\"\\t\")\n",
    "  split_G, conn_comps = df2nx(df,cc_mode=\"all\")\n",
    "  plt.subplot(len(splitnames),1,idx+1)\n",
    "  plt.title(splitname)\n",
    "  plt.hist([len(c) for c in conn_comps],bins=100)\n",
    "  print(len(conn_comps))"
   ]
  },
  {
   "cell_type": "code",
   "execution_count": null,
   "id": "3b338842",
   "metadata": {},
   "outputs": [],
   "source": []
  }
 ],
 "metadata": {
  "kernelspec": {
   "display_name": "Python 3 (ipykernel)",
   "language": "python",
   "name": "python3"
  },
  "language_info": {
   "codemirror_mode": {
    "name": "ipython",
    "version": 3
   },
   "file_extension": ".py",
   "mimetype": "text/x-python",
   "name": "python",
   "nbconvert_exporter": "python",
   "pygments_lexer": "ipython3",
   "version": "3.10.11"
  }
 },
 "nbformat": 4,
 "nbformat_minor": 5
}
