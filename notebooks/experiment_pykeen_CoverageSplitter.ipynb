{
 "cells": [
  {
   "cell_type": "code",
   "execution_count": 1,
   "id": "b40b3392",
   "metadata": {},
   "outputs": [],
   "source": [
    "# TODO: get rid of hacks like this by adding a setup.py scripts to base and installing the package\n",
    "import os\n",
    "import sys\n",
    "module_path = os.path.abspath(os.path.join('..'))\n",
    "if module_path not in sys.path:\n",
    "    sys.path.append(module_path)"
   ]
  },
  {
   "cell_type": "code",
   "execution_count": 55,
   "id": "ab04482b",
   "metadata": {},
   "outputs": [
    {
     "name": "stdout",
     "output_type": "stream",
     "text": [
      "The autoreload extension is already loaded. To reload it, use:\n",
      "  %reload_ext autoreload\n"
     ]
    }
   ],
   "source": [
    "%load_ext autoreload\n",
    "%autoreload 2\n",
    "%matplotlib inline"
   ]
  },
  {
   "cell_type": "code",
   "execution_count": 61,
   "id": "b9871eaf",
   "metadata": {},
   "outputs": [],
   "source": [
    "from pykeen.triples import TriplesFactory\n",
    "from dataset import load_lnctard, create_splits\n",
    "import pandas as pd\n",
    "import networkx as nx\n",
    "import matplotlib.pyplot as plt"
   ]
  },
  {
   "cell_type": "code",
   "execution_count": 121,
   "id": "4f59b9b6",
   "metadata": {},
   "outputs": [],
   "source": [
    "DATA_DIR = \"../data\""
   ]
  },
  {
   "cell_type": "code",
   "execution_count": 135,
   "id": "22f9aaff",
   "metadata": {},
   "outputs": [],
   "source": [
    "df = load_lnctard('../data/lnctard2.0.txt', cols=\"Regulator\tSearchregulatoryMechanism\tTarget\".split())"
   ]
  },
  {
   "cell_type": "code",
   "execution_count": 136,
   "id": "eb08f633",
   "metadata": {},
   "outputs": [
    {
     "name": "stdout",
     "output_type": "stream",
     "text": [
      "11:09:54   done splitting triples to groups of sizes [2822, 744, 744]\n",
      "11:09:54   done splitting triples to groups of sizes [1632, 1190]\n"
     ]
    }
   ],
   "source": [
    "for splitname, subset in zip(\"train_m train_s val test\".split(), create_splits(df.to_numpy())):\n",
    "  id2ent, id2rel = subset.entity_labeling.id_to_label, subset.relation_labeling.id_to_label\n",
    "  pd.DataFrame(\n",
    "    [(id2ent[h.item()], id2rel[r.item()], id2ent[t.item()]) for h,r,t in subset.mapped_triples],\n",
    "    columns=[\"head\", \"relation\", \"tail\"],\n",
    "  ).to_csv(os.path.join(DATA_DIR, f\"{splitname}.tsv\"), sep=\"\\t\", index=None)"
   ]
  },
  {
   "cell_type": "code",
   "execution_count": null,
   "id": "84d4ad63",
   "metadata": {},
   "outputs": [],
   "source": []
  }
 ],
 "metadata": {
  "kernelspec": {
   "display_name": "Python 3 (ipykernel)",
   "language": "python",
   "name": "python3"
  },
  "language_info": {
   "codemirror_mode": {
    "name": "ipython",
    "version": 3
   },
   "file_extension": ".py",
   "mimetype": "text/x-python",
   "name": "python",
   "nbconvert_exporter": "python",
   "pygments_lexer": "ipython3",
   "version": "3.10.11"
  }
 },
 "nbformat": 4,
 "nbformat_minor": 5
}
