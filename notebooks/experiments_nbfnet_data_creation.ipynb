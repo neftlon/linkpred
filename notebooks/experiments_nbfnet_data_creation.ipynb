{
 "cells": [
  {
   "cell_type": "markdown",
   "id": "b02409e9",
   "metadata": {},
   "source": [
    "create a NBFNet compatible `entity_types` file by mergin `target2type.tsv` and `regulator2type.tsv`."
   ]
  },
  {
   "cell_type": "code",
   "execution_count": 3,
   "id": "44cd3ac6",
   "metadata": {},
   "outputs": [],
   "source": [
    "import os\n",
    "import pandas as pd"
   ]
  },
  {
   "cell_type": "code",
   "execution_count": 4,
   "id": "ecce852b",
   "metadata": {},
   "outputs": [
    {
     "data": {
      "text/plain": [
       "['train.tsv',\n",
       " 'target2type.tsv',\n",
       " 'CTCdiffexpression.txt',\n",
       " 'val.tsv',\n",
       " 'TCGAdiffexpression.txt',\n",
       " 'dataset.tsv',\n",
       " 'test.tsv',\n",
       " 'ras_machine_triples.tsv',\n",
       " 'regulator2type.tsv',\n",
       " 'GEOdiffexpression.txt',\n",
       " 'lnctard2.0.txt']"
      ]
     },
     "execution_count": 4,
     "metadata": {},
     "output_type": "execute_result"
    }
   ],
   "source": [
    "os.listdir(\"../data\")"
   ]
  },
  {
   "cell_type": "code",
   "execution_count": 19,
   "id": "d3b61465",
   "metadata": {},
   "outputs": [],
   "source": [
    "tar2ty, reg2ty = [\n",
    "  pd.read_csv(fn,sep=\"\\t\",encoding=\"latin-1\", names=[\"entity\",\"type\"])[1:] for fn in [\"../data/target2type.tsv\", \"../data/regulator2type.tsv\"]\n",
    "]"
   ]
  },
  {
   "cell_type": "code",
   "execution_count": 27,
   "id": "c3619aaa",
   "metadata": {},
   "outputs": [
    {
     "data": {
      "text/html": [
       "<div>\n",
       "<style scoped>\n",
       "    .dataframe tbody tr th:only-of-type {\n",
       "        vertical-align: middle;\n",
       "    }\n",
       "\n",
       "    .dataframe tbody tr th {\n",
       "        vertical-align: top;\n",
       "    }\n",
       "\n",
       "    .dataframe thead th {\n",
       "        text-align: right;\n",
       "    }\n",
       "</style>\n",
       "<table border=\"1\" class=\"dataframe\">\n",
       "  <thead>\n",
       "    <tr style=\"text-align: right;\">\n",
       "      <th></th>\n",
       "      <th>entity</th>\n",
       "      <th>type</th>\n",
       "    </tr>\n",
       "  </thead>\n",
       "  <tbody>\n",
       "    <tr>\n",
       "      <th>0</th>\n",
       "      <td>miR-4429</td>\n",
       "      <td>miRNA</td>\n",
       "    </tr>\n",
       "    <tr>\n",
       "      <th>1</th>\n",
       "      <td>CDKN1A</td>\n",
       "      <td>PCG</td>\n",
       "    </tr>\n",
       "    <tr>\n",
       "      <th>2</th>\n",
       "      <td>TGFB1</td>\n",
       "      <td>PCG</td>\n",
       "    </tr>\n",
       "    <tr>\n",
       "      <th>3</th>\n",
       "      <td>ZEB1</td>\n",
       "      <td>TF</td>\n",
       "    </tr>\n",
       "    <tr>\n",
       "      <th>4</th>\n",
       "      <td>MIF</td>\n",
       "      <td>PCG</td>\n",
       "    </tr>\n",
       "    <tr>\n",
       "      <th>...</th>\n",
       "      <td>...</td>\n",
       "      <td>...</td>\n",
       "    </tr>\n",
       "    <tr>\n",
       "      <th>4365</th>\n",
       "      <td>LAMTOR5-AS1</td>\n",
       "      <td>lncRNA</td>\n",
       "    </tr>\n",
       "    <tr>\n",
       "      <th>4366</th>\n",
       "      <td>HSPA7</td>\n",
       "      <td>lncRNA</td>\n",
       "    </tr>\n",
       "    <tr>\n",
       "      <th>4367</th>\n",
       "      <td>PKMYT1AR</td>\n",
       "      <td>lncRNA</td>\n",
       "    </tr>\n",
       "    <tr>\n",
       "      <th>4368</th>\n",
       "      <td>RP5-857K21.7</td>\n",
       "      <td>lncRNA</td>\n",
       "    </tr>\n",
       "    <tr>\n",
       "      <th>4369</th>\n",
       "      <td>circ-PSEN1</td>\n",
       "      <td>lncRNA</td>\n",
       "    </tr>\n",
       "  </tbody>\n",
       "</table>\n",
       "<p>3937 rows × 2 columns</p>\n",
       "</div>"
      ],
      "text/plain": [
       "            entity    type\n",
       "0         miR-4429   miRNA\n",
       "1           CDKN1A     PCG\n",
       "2            TGFB1     PCG\n",
       "3             ZEB1      TF\n",
       "4              MIF     PCG\n",
       "...            ...     ...\n",
       "4365   LAMTOR5-AS1  lncRNA\n",
       "4366         HSPA7  lncRNA\n",
       "4367      PKMYT1AR  lncRNA\n",
       "4368  RP5-857K21.7  lncRNA\n",
       "4369    circ-PSEN1  lncRNA\n",
       "\n",
       "[3937 rows x 2 columns]"
      ]
     },
     "execution_count": 27,
     "metadata": {},
     "output_type": "execute_result"
    }
   ],
   "source": [
    "entity_types = pd.concat([tar2ty,reg2ty],ignore_index=True).drop_duplicates()\n",
    "entity_types"
   ]
  },
  {
   "cell_type": "code",
   "execution_count": 30,
   "id": "b564b6e7",
   "metadata": {},
   "outputs": [
    {
     "data": {
      "text/html": [
       "<div>\n",
       "<style scoped>\n",
       "    .dataframe tbody tr th:only-of-type {\n",
       "        vertical-align: middle;\n",
       "    }\n",
       "\n",
       "    .dataframe tbody tr th {\n",
       "        vertical-align: top;\n",
       "    }\n",
       "\n",
       "    .dataframe thead th {\n",
       "        text-align: right;\n",
       "    }\n",
       "</style>\n",
       "<table border=\"1\" class=\"dataframe\">\n",
       "  <thead>\n",
       "    <tr style=\"text-align: right;\">\n",
       "      <th></th>\n",
       "      <th>entity</th>\n",
       "      <th>type</th>\n",
       "    </tr>\n",
       "  </thead>\n",
       "  <tbody>\n",
       "    <tr>\n",
       "      <th>0</th>\n",
       "      <td>miR-4429</td>\n",
       "      <td>4</td>\n",
       "    </tr>\n",
       "    <tr>\n",
       "      <th>1</th>\n",
       "      <td>CDKN1A</td>\n",
       "      <td>0</td>\n",
       "    </tr>\n",
       "    <tr>\n",
       "      <th>2</th>\n",
       "      <td>TGFB1</td>\n",
       "      <td>0</td>\n",
       "    </tr>\n",
       "    <tr>\n",
       "      <th>3</th>\n",
       "      <td>ZEB1</td>\n",
       "      <td>1</td>\n",
       "    </tr>\n",
       "    <tr>\n",
       "      <th>4</th>\n",
       "      <td>MIF</td>\n",
       "      <td>0</td>\n",
       "    </tr>\n",
       "    <tr>\n",
       "      <th>...</th>\n",
       "      <td>...</td>\n",
       "      <td>...</td>\n",
       "    </tr>\n",
       "    <tr>\n",
       "      <th>4365</th>\n",
       "      <td>LAMTOR5-AS1</td>\n",
       "      <td>3</td>\n",
       "    </tr>\n",
       "    <tr>\n",
       "      <th>4366</th>\n",
       "      <td>HSPA7</td>\n",
       "      <td>3</td>\n",
       "    </tr>\n",
       "    <tr>\n",
       "      <th>4367</th>\n",
       "      <td>PKMYT1AR</td>\n",
       "      <td>3</td>\n",
       "    </tr>\n",
       "    <tr>\n",
       "      <th>4368</th>\n",
       "      <td>RP5-857K21.7</td>\n",
       "      <td>3</td>\n",
       "    </tr>\n",
       "    <tr>\n",
       "      <th>4369</th>\n",
       "      <td>circ-PSEN1</td>\n",
       "      <td>3</td>\n",
       "    </tr>\n",
       "  </tbody>\n",
       "</table>\n",
       "<p>3937 rows × 2 columns</p>\n",
       "</div>"
      ],
      "text/plain": [
       "            entity  type\n",
       "0         miR-4429     4\n",
       "1           CDKN1A     0\n",
       "2            TGFB1     0\n",
       "3             ZEB1     1\n",
       "4              MIF     0\n",
       "...            ...   ...\n",
       "4365   LAMTOR5-AS1     3\n",
       "4366         HSPA7     3\n",
       "4367      PKMYT1AR     3\n",
       "4368  RP5-857K21.7     3\n",
       "4369    circ-PSEN1     3\n",
       "\n",
       "[3937 rows x 2 columns]"
      ]
     },
     "execution_count": 30,
     "metadata": {},
     "output_type": "execute_result"
    }
   ],
   "source": [
    "entity_types[\"type\"] = entity_types[\"type\"].astype(\"category\")\n",
    "entity_types[\"type\"] = entity_types[\"type\"].cat.codes\n",
    "entity_types"
   ]
  },
  {
   "cell_type": "code",
   "execution_count": 31,
   "id": "bc55a3f4",
   "metadata": {},
   "outputs": [],
   "source": [
    "entity_types.to_csv(\"../data/entity_types.tsv\",sep=\"\\t\",index=False,header=False)"
   ]
  },
  {
   "cell_type": "code",
   "execution_count": null,
   "id": "5585cc5b",
   "metadata": {},
   "outputs": [],
   "source": []
  }
 ],
 "metadata": {
  "kernelspec": {
   "display_name": "Python 3 (ipykernel)",
   "language": "python",
   "name": "python3"
  },
  "language_info": {
   "codemirror_mode": {
    "name": "ipython",
    "version": 3
   },
   "file_extension": ".py",
   "mimetype": "text/x-python",
   "name": "python",
   "nbconvert_exporter": "python",
   "pygments_lexer": "ipython3",
   "version": "3.10.11"
  }
 },
 "nbformat": 4,
 "nbformat_minor": 5
}
