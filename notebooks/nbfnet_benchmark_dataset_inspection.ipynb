{
 "cells": [
  {
   "cell_type": "code",
   "execution_count": 98,
   "id": "b6e8e618",
   "metadata": {},
   "outputs": [],
   "source": [
    "import networkx as nx\n",
    "import pandas as pd\n",
    "import matplotlib.pyplot as plt"
   ]
  },
  {
   "cell_type": "markdown",
   "id": "07607443",
   "metadata": {},
   "source": [
    "### FB15K237"
   ]
  },
  {
   "cell_type": "code",
   "execution_count": 99,
   "id": "c6e97167",
   "metadata": {},
   "outputs": [],
   "source": [
    "df_train = pd.read_csv(\"../data/fb15k237/train.txt\", sep=\"\\t\", header=None, names=[\"head\", \"relation\", \"tail\"])\n",
    "df_val = pd.read_csv(\"../data/fb15k237/valid.txt\", sep=\"\\t\", header=None, names=[\"head\", \"relation\", \"tail\"])\n",
    "df_test = pd.read_csv(\"../data/fb15k237/test.txt\", sep=\"\\t\", header=None, names=[\"head\", \"relation\", \"tail\"])"
   ]
  },
  {
   "cell_type": "code",
   "execution_count": 100,
   "id": "67cc2445",
   "metadata": {},
   "outputs": [
    {
     "data": {
      "text/html": [
       "<div>\n",
       "<style scoped>\n",
       "    .dataframe tbody tr th:only-of-type {\n",
       "        vertical-align: middle;\n",
       "    }\n",
       "\n",
       "    .dataframe tbody tr th {\n",
       "        vertical-align: top;\n",
       "    }\n",
       "\n",
       "    .dataframe thead th {\n",
       "        text-align: right;\n",
       "    }\n",
       "</style>\n",
       "<table border=\"1\" class=\"dataframe\">\n",
       "  <thead>\n",
       "    <tr style=\"text-align: right;\">\n",
       "      <th></th>\n",
       "      <th>head</th>\n",
       "      <th>relation</th>\n",
       "      <th>tail</th>\n",
       "    </tr>\n",
       "  </thead>\n",
       "  <tbody>\n",
       "    <tr>\n",
       "      <th>0</th>\n",
       "      <td>/m/027rn</td>\n",
       "      <td>/location/country/form_of_government</td>\n",
       "      <td>/m/06cx9</td>\n",
       "    </tr>\n",
       "    <tr>\n",
       "      <th>1</th>\n",
       "      <td>/m/017dcd</td>\n",
       "      <td>/tv/tv_program/regular_cast./tv/regular_tv_app...</td>\n",
       "      <td>/m/06v8s0</td>\n",
       "    </tr>\n",
       "    <tr>\n",
       "      <th>2</th>\n",
       "      <td>/m/07s9rl0</td>\n",
       "      <td>/media_common/netflix_genre/titles</td>\n",
       "      <td>/m/0170z3</td>\n",
       "    </tr>\n",
       "    <tr>\n",
       "      <th>3</th>\n",
       "      <td>/m/01sl1q</td>\n",
       "      <td>/award/award_winner/awards_won./award/award_ho...</td>\n",
       "      <td>/m/044mz_</td>\n",
       "    </tr>\n",
       "    <tr>\n",
       "      <th>4</th>\n",
       "      <td>/m/0cnk2q</td>\n",
       "      <td>/soccer/football_team/current_roster./sports/s...</td>\n",
       "      <td>/m/02nzb8</td>\n",
       "    </tr>\n",
       "  </tbody>\n",
       "</table>\n",
       "</div>"
      ],
      "text/plain": [
       "         head                                           relation       tail\n",
       "0    /m/027rn               /location/country/form_of_government   /m/06cx9\n",
       "1   /m/017dcd  /tv/tv_program/regular_cast./tv/regular_tv_app...  /m/06v8s0\n",
       "2  /m/07s9rl0                 /media_common/netflix_genre/titles  /m/0170z3\n",
       "3   /m/01sl1q  /award/award_winner/awards_won./award/award_ho...  /m/044mz_\n",
       "4   /m/0cnk2q  /soccer/football_team/current_roster./sports/s...  /m/02nzb8"
      ]
     },
     "execution_count": 100,
     "metadata": {},
     "output_type": "execute_result"
    }
   ],
   "source": [
    "df_train.head()"
   ]
  },
  {
   "cell_type": "code",
   "execution_count": 101,
   "id": "40967da4",
   "metadata": {},
   "outputs": [],
   "source": [
    "def construct_graphs(df_train, df_val, df_test):\n",
    "    df_train_val = pd.concat([df_train, df_val])\n",
    "    df_full = pd.concat([df_train, df_val, df_test])\n",
    "\n",
    "    G_train = nx.from_pandas_edgelist(df_train, source=\"head\", target=\"tail\", edge_attr=\"relation\", create_using=nx.MultiDiGraph())\n",
    "    G_train_val = nx.from_pandas_edgelist(df_train_val, source=\"head\", target=\"tail\", edge_attr=\"relation\", create_using=nx.MultiDiGraph())\n",
    "    G_full = nx.from_pandas_edgelist(df_full, source=\"head\", target=\"tail\", edge_attr=\"relation\", create_using=nx.MultiDiGraph())\n",
    "    return G_train, G_train_val, G_full\n",
    "G_train, G_train_val, G_full = construct_graphs(df_train, df_val, df_test)"
   ]
  },
  {
   "cell_type": "code",
   "execution_count": 102,
   "id": "c50cf5d5",
   "metadata": {},
   "outputs": [
    {
     "name": "stdout",
     "output_type": "stream",
     "text": [
      "Train set:\n",
      " Weakly connected: False\n",
      " Number of components: 5\n",
      " Size of components: [14496, 3, 2, 2, 2]\n",
      " Number of nodes in graph: 14505\n",
      " Number of edges in graph: 272115\n",
      "\n",
      "Val set:\n",
      " Weakly connected: False\n",
      " Number of components: 5\n",
      " Size of components: [14504, 3, 2, 2, 2]\n",
      " Number of nodes in graph: 14513\n",
      " Number of edges in graph: 289650\n",
      "\n",
      "Test set:\n",
      " Weakly connected: False\n",
      " Number of components: 6\n",
      " Size of components: [14529, 3, 3, 2, 2, 2]\n",
      " Number of nodes in graph: 14541\n",
      " Number of edges in graph: 310116\n",
      "\n"
     ]
    }
   ],
   "source": [
    "def print_stats(G_train, G_train_val, G_full):\n",
    "    for name, graph in zip([\"Train\", \"Val\", \"Test\"], [G_train, G_train_val, G_full]):\n",
    "        print(f\"{name} set:\\n Weakly connected: {nx.is_weakly_connected(graph)}\\n\",\n",
    "              f\"Number of components: {len(list(nx.weakly_connected_components(graph)))}\\n\", \n",
    "              f\"Size of components: {sorted([len(wcc) for wcc in nx.weakly_connected_components(graph)], reverse=True)}\\n\",\n",
    "              f\"Number of nodes in graph: {len(graph.nodes())}\\n\",\n",
    "              f\"Number of edges in graph: {len(graph.edges())}\\n\")\n",
    "print_stats(G_train, G_train_val, G_full)"
   ]
  },
  {
   "cell_type": "code",
   "execution_count": 103,
   "id": "a3eac0a1",
   "metadata": {},
   "outputs": [
    {
     "data": {
      "image/png": "[encoded data removed]",
      "text/plain": [
       "<Figure size 1500x600 with 3 Axes>"
      ]
     },
     "metadata": {},
     "output_type": "display_data"
    }
   ],
   "source": [
    "def plot_degrees(G_train, G_train_val, G_full, up_to=25):\n",
    "    fig, axs = plt.subplots(ncols=3, figsize=(15,6), sharey=True)\n",
    "    title = [\"Train\", \"Validation\", \"Test/Full\"]\n",
    "    for i, split in enumerate([G_train, G_train_val, G_full]):\n",
    "        degrees = nx.degree_histogram(split)\n",
    "        axs[i].bar(range(up_to), degrees[:up_to])\n",
    "        axs[i].set_title(f\"{title[i]}\")\n",
    "        axs[i].set_xlabel(\"Degree\")\n",
    "        axs[i].set_ylabel(\"Number of Nodes\")\n",
    "plot_degrees(G_train, G_train_val, G_full, up_to=100)"
   ]
  },
  {
   "cell_type": "markdown",
   "id": "4e3e8643",
   "metadata": {},
   "source": [
    "### WN18RR"
   ]
  },
  {
   "cell_type": "code",
   "execution_count": 104,
   "id": "8d0d1067",
   "metadata": {},
   "outputs": [],
   "source": [
    "df_train = pd.read_csv(\"../data/wn18rr/train.txt\", sep=\"\\t\", header=None, names=[\"head\", \"relation\", \"tail\"])\n",
    "df_val = pd.read_csv(\"../data/wn18rr/valid.txt\", sep=\"\\t\", header=None, names=[\"head\", \"relation\", \"tail\"])\n",
    "df_test = pd.read_csv(\"../data/wn18rr/test.txt\", sep=\"\\t\", header=None, names=[\"head\", \"relation\", \"tail\"])"
   ]
  },
  {
   "cell_type": "code",
   "execution_count": 105,
   "id": "cc917adb",
   "metadata": {},
   "outputs": [
    {
     "data": {
      "text/html": [
       "<div>\n",
       "<style scoped>\n",
       "    .dataframe tbody tr th:only-of-type {\n",
       "        vertical-align: middle;\n",
       "    }\n",
       "\n",
       "    .dataframe tbody tr th {\n",
       "        vertical-align: top;\n",
       "    }\n",
       "\n",
       "    .dataframe thead th {\n",
       "        text-align: right;\n",
       "    }\n",
       "</style>\n",
       "<table border=\"1\" class=\"dataframe\">\n",
       "  <thead>\n",
       "    <tr style=\"text-align: right;\">\n",
       "      <th></th>\n",
       "      <th>head</th>\n",
       "      <th>relation</th>\n",
       "      <th>tail</th>\n",
       "    </tr>\n",
       "  </thead>\n",
       "  <tbody>\n",
       "    <tr>\n",
       "      <th>0</th>\n",
       "      <td>260881</td>\n",
       "      <td>_hypernym</td>\n",
       "      <td>260622</td>\n",
       "    </tr>\n",
       "    <tr>\n",
       "      <th>1</th>\n",
       "      <td>1332730</td>\n",
       "      <td>_derivationally_related_form</td>\n",
       "      <td>3122748</td>\n",
       "    </tr>\n",
       "    <tr>\n",
       "      <th>2</th>\n",
       "      <td>6066555</td>\n",
       "      <td>_derivationally_related_form</td>\n",
       "      <td>645415</td>\n",
       "    </tr>\n",
       "    <tr>\n",
       "      <th>3</th>\n",
       "      <td>9322930</td>\n",
       "      <td>_instance_hypernym</td>\n",
       "      <td>9360122</td>\n",
       "    </tr>\n",
       "    <tr>\n",
       "      <th>4</th>\n",
       "      <td>7193596</td>\n",
       "      <td>_derivationally_related_form</td>\n",
       "      <td>784342</td>\n",
       "    </tr>\n",
       "  </tbody>\n",
       "</table>\n",
       "</div>"
      ],
      "text/plain": [
       "      head                      relation     tail\n",
       "0   260881                     _hypernym   260622\n",
       "1  1332730  _derivationally_related_form  3122748\n",
       "2  6066555  _derivationally_related_form   645415\n",
       "3  9322930            _instance_hypernym  9360122\n",
       "4  7193596  _derivationally_related_form   784342"
      ]
     },
     "execution_count": 105,
     "metadata": {},
     "output_type": "execute_result"
    }
   ],
   "source": [
    "df_train.head()"
   ]
  },
  {
   "cell_type": "code",
   "execution_count": 106,
   "id": "4b15310c",
   "metadata": {},
   "outputs": [],
   "source": [
    "G_train, G_train_val, G_full = construct_graphs(df_train, df_val, df_test)"
   ]
  },
  {
   "cell_type": "code",
   "execution_count": 107,
   "id": "bd93bfac",
   "metadata": {},
   "outputs": [
    {
     "name": "stdout",
     "output_type": "stream",
     "text": [
      "Train set:\n",
      " Weakly connected: False\n",
      " Number of components: 46\n",
      " Size of components: [40442, 8, 6, 4, 4, 4, 3, 3, 3, 3, 3, 3, 3, 3, 3, 3, 3, 2, 2, 2, 2, 2, 2, 2, 2, 2, 2, 2, 2, 2, 2, 2, 2, 2, 2, 2, 2, 2, 2, 2, 2, 2, 2, 2, 2, 2]\n",
      " Number of nodes in graph: 40559\n",
      " Number of edges in graph: 86835\n",
      "\n",
      "Val set:\n",
      " Weakly connected: False\n",
      " Number of components: 30\n",
      " Size of components: [40679, 8, 6, 4, 3, 3, 3, 3, 3, 3, 3, 3, 2, 2, 2, 2, 2, 2, 2, 2, 2, 2, 2, 2, 2, 2, 2, 2, 2, 2]\n",
      " Number of nodes in graph: 40757\n",
      " Number of edges in graph: 89869\n",
      "\n",
      "Test set:\n",
      " Weakly connected: False\n",
      " Number of components: 13\n",
      " Size of components: [40917, 3, 3, 2, 2, 2, 2, 2, 2, 2, 2, 2, 2]\n",
      " Number of nodes in graph: 40943\n",
      " Number of edges in graph: 93003\n",
      "\n"
     ]
    }
   ],
   "source": [
    "print_stats(G_train, G_train_val, G_full)"
   ]
  },
  {
   "cell_type": "code",
   "execution_count": 108,
   "id": "6e56d07b",
   "metadata": {},
   "outputs": [
    {
     "data": {
      "image/png": "[encoded data removed]",
      "text/plain": [
       "<Figure size 1500x600 with 3 Axes>"
      ]
     },
     "metadata": {},
     "output_type": "display_data"
    }
   ],
   "source": [
    "plot_degrees(G_train, G_train_val, G_full, up_to=25)"
   ]
  },
  {
   "cell_type": "markdown",
   "id": "feec816f",
   "metadata": {},
   "source": [
    "### LncTarD"
   ]
  },
  {
   "cell_type": "code",
   "execution_count": 109,
   "id": "a7b401eb",
   "metadata": {},
   "outputs": [],
   "source": [
    "df_train1 = pd.read_csv(\"../data/lnctard_our_split/train1.txt\", sep=\"\\t\", header=None, names=[\"head\", \"relation\", \"tail\"])\n",
    "df_train2 = pd.read_csv(\"../data/lnctard_our_split/train2.txt\", sep=\"\\t\", header=None, names=[\"head\", \"relation\", \"tail\"])\n",
    "df_val = pd.read_csv(\"../data/lnctard_our_split/valid.txt\", sep=\"\\t\", header=None, names=[\"head\", \"relation\", \"tail\"])\n",
    "df_test = pd.read_csv(\"../data/lnctard_our_split/test.txt\", sep=\"\\t\", header=None, names=[\"head\", \"relation\", \"tail\"])"
   ]
  },
  {
   "cell_type": "code",
   "execution_count": 110,
   "id": "b6d4122e",
   "metadata": {},
   "outputs": [],
   "source": [
    "df_train = pd.concat([df_train1, df_train2])"
   ]
  },
  {
   "cell_type": "code",
   "execution_count": 111,
   "id": "a420a76a",
   "metadata": {},
   "outputs": [
    {
     "data": {
      "text/html": [
       "<div>\n",
       "<style scoped>\n",
       "    .dataframe tbody tr th:only-of-type {\n",
       "        vertical-align: middle;\n",
       "    }\n",
       "\n",
       "    .dataframe tbody tr th {\n",
       "        vertical-align: top;\n",
       "    }\n",
       "\n",
       "    .dataframe thead th {\n",
       "        text-align: right;\n",
       "    }\n",
       "</style>\n",
       "<table border=\"1\" class=\"dataframe\">\n",
       "  <thead>\n",
       "    <tr style=\"text-align: right;\">\n",
       "      <th></th>\n",
       "      <th>head</th>\n",
       "      <th>relation</th>\n",
       "      <th>tail</th>\n",
       "    </tr>\n",
       "  </thead>\n",
       "  <tbody>\n",
       "    <tr>\n",
       "      <th>0</th>\n",
       "      <td>1700020I14Rik</td>\n",
       "      <td>ceRNA or sponge</td>\n",
       "      <td>CGRP</td>\n",
       "    </tr>\n",
       "    <tr>\n",
       "      <th>1</th>\n",
       "      <td>17beta-E2</td>\n",
       "      <td>transcriptional regulation</td>\n",
       "      <td>LINC01541</td>\n",
       "    </tr>\n",
       "    <tr>\n",
       "      <th>2</th>\n",
       "      <td>7SK</td>\n",
       "      <td>interact with protein</td>\n",
       "      <td>CDC6</td>\n",
       "    </tr>\n",
       "    <tr>\n",
       "      <th>3</th>\n",
       "      <td>91H</td>\n",
       "      <td>epigenetic regulation</td>\n",
       "      <td>H19</td>\n",
       "    </tr>\n",
       "    <tr>\n",
       "      <th>4</th>\n",
       "      <td>A1BG-AS1</td>\n",
       "      <td>ceRNA or sponge</td>\n",
       "      <td>SMAD7</td>\n",
       "    </tr>\n",
       "  </tbody>\n",
       "</table>\n",
       "</div>"
      ],
      "text/plain": [
       "            head                    relation       tail\n",
       "0  1700020I14Rik             ceRNA or sponge       CGRP\n",
       "1      17beta-E2  transcriptional regulation  LINC01541\n",
       "2            7SK       interact with protein       CDC6\n",
       "3            91H       epigenetic regulation        H19\n",
       "4       A1BG-AS1             ceRNA or sponge      SMAD7"
      ]
     },
     "execution_count": 111,
     "metadata": {},
     "output_type": "execute_result"
    }
   ],
   "source": [
    "df_train.head()"
   ]
  },
  {
   "cell_type": "code",
   "execution_count": 112,
   "id": "e9c136b8",
   "metadata": {},
   "outputs": [],
   "source": [
    "G_train, G_train_val, G_full = construct_graphs(df_train, df_val, df_test)"
   ]
  },
  {
   "cell_type": "code",
   "execution_count": 113,
   "id": "5b2ff7ad",
   "metadata": {},
   "outputs": [
    {
     "name": "stdout",
     "output_type": "stream",
     "text": [
      "Train set:\n",
      " Weakly connected: False\n",
      " Number of components: 295\n",
      " Size of components: [3256, 6, 5, 4, 4, 4, 4, 4, 4, 4, 4, 4, 4, 4, 4, 4, 3, 3, 3, 3, 3, 3, 3, 3, 3, 3, 3, 3, 3, 3, 3, 3, 3, 3, 3, 3, 3, 3, 3, 3, 3, 3, 3, 3, 3, 3, 3, 2, 2, 2, 2, 2, 2, 2, 2, 2, 2, 2, 2, 2, 2, 2, 2, 2, 2, 2, 2, 2, 2, 2, 2, 2, 2, 2, 2, 2, 2, 2, 2, 2, 2, 2, 2, 2, 2, 2, 2, 2, 2, 2, 2, 2, 2, 2, 2, 2, 2, 2, 2, 2, 2, 2, 2, 2, 2, 2, 2, 2, 2, 2, 2, 2, 2, 2, 2, 2, 2, 2, 2, 2, 2, 2, 2, 2, 2, 2, 2, 2, 2, 2, 2, 2, 2, 2, 2, 2, 2, 2, 2, 2, 2, 2, 2, 2, 2, 2, 2, 2, 2, 2, 2, 2, 2, 2, 2, 2, 2, 2, 2, 2, 2, 2, 2, 2, 2, 2, 2, 2, 2, 2, 2, 2, 2, 2, 2, 2, 2, 2, 2, 2, 2, 2, 2, 2, 2, 2, 2, 2, 2, 2, 2, 2, 2, 2, 2, 2, 2, 2, 2, 2, 2, 2, 2, 2, 2, 2, 2, 2, 2, 2, 2, 2, 2, 2, 2, 2, 2, 2, 2, 2, 2, 2, 2, 2, 2, 2, 2, 2, 2, 2, 2, 2, 2, 2, 2, 2, 2, 2, 2, 2, 2, 2, 2, 2, 2, 2, 2, 2, 2, 2, 2, 2, 2, 2, 2, 2, 2, 2, 2, 2, 2, 2, 2, 2, 2, 2, 2, 2, 2, 2, 2, 2, 2, 2, 2, 2, 2, 2, 2, 2, 2, 2, 2, 2, 2, 2, 2, 2, 2, 2, 2, 2, 2, 2, 2]\n",
      " Number of nodes in graph: 3908\n",
      " Number of edges in graph: 5950\n",
      "\n",
      "Val set:\n",
      " Weakly connected: False\n",
      " Number of components: 268\n",
      " Size of components: [3322, 6, 5, 4, 4, 4, 4, 4, 4, 4, 4, 4, 4, 3, 3, 3, 3, 3, 3, 3, 3, 3, 3, 3, 3, 3, 3, 3, 3, 3, 3, 3, 3, 3, 3, 3, 3, 3, 2, 2, 2, 2, 2, 2, 2, 2, 2, 2, 2, 2, 2, 2, 2, 2, 2, 2, 2, 2, 2, 2, 2, 2, 2, 2, 2, 2, 2, 2, 2, 2, 2, 2, 2, 2, 2, 2, 2, 2, 2, 2, 2, 2, 2, 2, 2, 2, 2, 2, 2, 2, 2, 2, 2, 2, 2, 2, 2, 2, 2, 2, 2, 2, 2, 2, 2, 2, 2, 2, 2, 2, 2, 2, 2, 2, 2, 2, 2, 2, 2, 2, 2, 2, 2, 2, 2, 2, 2, 2, 2, 2, 2, 2, 2, 2, 2, 2, 2, 2, 2, 2, 2, 2, 2, 2, 2, 2, 2, 2, 2, 2, 2, 2, 2, 2, 2, 2, 2, 2, 2, 2, 2, 2, 2, 2, 2, 2, 2, 2, 2, 2, 2, 2, 2, 2, 2, 2, 2, 2, 2, 2, 2, 2, 2, 2, 2, 2, 2, 2, 2, 2, 2, 2, 2, 2, 2, 2, 2, 2, 2, 2, 2, 2, 2, 2, 2, 2, 2, 2, 2, 2, 2, 2, 2, 2, 2, 2, 2, 2, 2, 2, 2, 2, 2, 2, 2, 2, 2, 2, 2, 2, 2, 2, 2, 2, 2, 2, 2, 2, 2, 2, 2, 2, 2, 2, 2, 2, 2, 2, 2, 2, 2, 2, 2, 2, 2, 2, 2, 2, 2, 2, 2, 2, 2, 2, 2, 2, 2, 2]\n",
      " Number of nodes in graph: 3908\n",
      " Number of edges in graph: 6694\n",
      "\n",
      "Test set:\n",
      " Weakly connected: False\n",
      " Number of components: 249\n",
      " Size of components: [3367, 6, 5, 4, 4, 4, 4, 4, 4, 4, 3, 3, 3, 3, 3, 3, 3, 3, 3, 3, 3, 3, 3, 3, 3, 3, 3, 3, 3, 3, 3, 3, 3, 3, 2, 2, 2, 2, 2, 2, 2, 2, 2, 2, 2, 2, 2, 2, 2, 2, 2, 2, 2, 2, 2, 2, 2, 2, 2, 2, 2, 2, 2, 2, 2, 2, 2, 2, 2, 2, 2, 2, 2, 2, 2, 2, 2, 2, 2, 2, 2, 2, 2, 2, 2, 2, 2, 2, 2, 2, 2, 2, 2, 2, 2, 2, 2, 2, 2, 2, 2, 2, 2, 2, 2, 2, 2, 2, 2, 2, 2, 2, 2, 2, 2, 2, 2, 2, 2, 2, 2, 2, 2, 2, 2, 2, 2, 2, 2, 2, 2, 2, 2, 2, 2, 2, 2, 2, 2, 2, 2, 2, 2, 2, 2, 2, 2, 2, 2, 2, 2, 2, 2, 2, 2, 2, 2, 2, 2, 2, 2, 2, 2, 2, 2, 2, 2, 2, 2, 2, 2, 2, 2, 2, 2, 2, 2, 2, 2, 2, 2, 2, 2, 2, 2, 2, 2, 2, 2, 2, 2, 2, 2, 2, 2, 2, 2, 2, 2, 2, 2, 2, 2, 2, 2, 2, 2, 2, 2, 2, 2, 2, 2, 2, 2, 2, 2, 2, 2, 2, 2, 2, 2, 2, 2, 2, 2, 2, 2, 2, 2, 2, 2, 2, 2, 2, 2, 2, 2, 2, 2, 2, 2, 2, 2, 2, 2, 2, 2]\n",
      " Number of nodes in graph: 3908\n",
      " Number of edges in graph: 7438\n",
      "\n"
     ]
    }
   ],
   "source": [
    "print_stats(G_train, G_train_val, G_full)"
   ]
  },
  {
   "cell_type": "code",
   "execution_count": 114,
   "id": "811c5dd8",
   "metadata": {},
   "outputs": [
    {
     "data": {
      "image/png": "[encoded data removed]",
      "text/plain": [
       "<Figure size 1500x600 with 3 Axes>"
      ]
     },
     "metadata": {},
     "output_type": "display_data"
    }
   ],
   "source": [
    "plot_degrees(G_train, G_train_val, G_full, up_to=25)"
   ]
  },
  {
   "cell_type": "code",
   "execution_count": null,
   "id": "3cf36d2a",
   "metadata": {},
   "outputs": [],
   "source": []
  }
 ],
 "metadata": {
  "kernelspec": {
   "display_name": "Python 3 (ipykernel)",
   "language": "python",
   "name": "python3"
  },
  "language_info": {
   "codemirror_mode": {
    "name": "ipython",
    "version": 3
   },
   "file_extension": ".py",
   "mimetype": "text/x-python",
   "name": "python",
   "nbconvert_exporter": "python",
   "pygments_lexer": "ipython3",
   "version": "3.9.16"
  }
 },
 "nbformat": 4,
 "nbformat_minor": 5
}
