{
 "cells": [
  {
   "cell_type": "code",
   "execution_count": 643,
   "metadata": {},
   "outputs": [],
   "source": [
    "from dataset import load_split\n",
    "import networkx as nx\n",
    "import pandas as pd\n",
    "import random\n",
    "import numpy as np\n",
    "\n",
    "random.seed(10)"
   ]
  },
  {
   "cell_type": "code",
   "execution_count": 644,
   "metadata": {},
   "outputs": [],
   "source": [
    "df_train = load_split(\"train\")\n",
    "df_val = load_split(\"val\")\n",
    "df_test = load_split(\"test\")"
   ]
  },
  {
   "cell_type": "code",
   "execution_count": 645,
   "metadata": {},
   "outputs": [
    {
     "name": "stdout",
     "output_type": "stream",
     "text": [
      "train: 5419\n",
      "val: 677\n",
      "test: 677\n"
     ]
    }
   ],
   "source": [
    "print(\"train:\", len(df_train))\n",
    "print(\"val:\", len(df_val))\n",
    "print(\"test:\", len(df_test))"
   ]
  },
  {
   "cell_type": "code",
   "execution_count": 646,
   "metadata": {},
   "outputs": [
    {
     "data": {
      "text/html": [
       "<div>\n",
       "<style scoped>\n",
       "    .dataframe tbody tr th:only-of-type {\n",
       "        vertical-align: middle;\n",
       "    }\n",
       "\n",
       "    .dataframe tbody tr th {\n",
       "        vertical-align: top;\n",
       "    }\n",
       "\n",
       "    .dataframe thead th {\n",
       "        text-align: right;\n",
       "    }\n",
       "</style>\n",
       "<table border=\"1\" class=\"dataframe\">\n",
       "  <thead>\n",
       "    <tr style=\"text-align: right;\">\n",
       "      <th></th>\n",
       "      <th>head</th>\n",
       "      <th>relation</th>\n",
       "      <th>tail</th>\n",
       "    </tr>\n",
       "  </thead>\n",
       "  <tbody>\n",
       "    <tr>\n",
       "      <th>0</th>\n",
       "      <td>MBNL1-AS1</td>\n",
       "      <td>ceRNA or sponge</td>\n",
       "      <td>miR-135a-5p</td>\n",
       "    </tr>\n",
       "    <tr>\n",
       "      <th>1</th>\n",
       "      <td>LINC01503</td>\n",
       "      <td>ceRNA or sponge</td>\n",
       "      <td>FOXK1</td>\n",
       "    </tr>\n",
       "    <tr>\n",
       "      <th>2</th>\n",
       "      <td>HOTTIP</td>\n",
       "      <td>expression association</td>\n",
       "      <td>CHI3L1</td>\n",
       "    </tr>\n",
       "    <tr>\n",
       "      <th>3</th>\n",
       "      <td>PITPNA-AS1</td>\n",
       "      <td>ceRNA or sponge</td>\n",
       "      <td>c-MET</td>\n",
       "    </tr>\n",
       "    <tr>\n",
       "      <th>4</th>\n",
       "      <td>TUG1</td>\n",
       "      <td>expression association</td>\n",
       "      <td>BNIP3</td>\n",
       "    </tr>\n",
       "  </tbody>\n",
       "</table>\n",
       "</div>"
      ],
      "text/plain": [
       "         head                relation         tail\n",
       "0   MBNL1-AS1         ceRNA or sponge  miR-135a-5p\n",
       "1   LINC01503         ceRNA or sponge        FOXK1\n",
       "2      HOTTIP  expression association       CHI3L1\n",
       "3  PITPNA-AS1         ceRNA or sponge        c-MET\n",
       "4        TUG1  expression association        BNIP3"
      ]
     },
     "execution_count": 646,
     "metadata": {},
     "output_type": "execute_result"
    }
   ],
   "source": [
    "df_test.head()"
   ]
  },
  {
   "cell_type": "code",
   "execution_count": 706,
   "metadata": {},
   "outputs": [],
   "source": [
    "G = nx.from_pandas_edgelist(df_test, source=\"head\", target=\"tail\", edge_attr=\"relation\", create_using=nx.MultiDiGraph())\n",
    "G_train = nx.from_pandas_edgelist(df_train, source=\"head\", target=\"tail\", edge_attr=\"relation\", create_using=nx.MultiDiGraph())\n",
    "G_val = nx.from_pandas_edgelist(df_val, source=\"head\", target=\"tail\", edge_attr=\"relation\", create_using=nx.MultiDiGraph())\n"
   ]
  },
  {
   "cell_type": "code",
   "execution_count": 708,
   "metadata": {},
   "outputs": [
    {
     "name": "stdout",
     "output_type": "stream",
     "text": [
      "mean rank: 817.685376661743\n",
      "mean reciprocal rank: 0.0036441562563016795\n",
      "hit at k: 0.0029542097488921715\n",
      "number of hits at k: 2\n",
      "mean rank: 548.0502215657311\n",
      "mean reciprocal rank: 0.003754015035738931\n",
      "hit at k: 0.0\n",
      "number of hits at k: 0\n",
      "mean rank: 418.11669128508123\n",
      "mean reciprocal rank: 0.006436851746996589\n",
      "hit at k: 0.0029542097488921715\n",
      "number of hits at k: 2\n"
     ]
    }
   ],
   "source": [
    "def corrupted_tail_samples(e, G):\n",
    "    return [(e[0], n) for n in G.nodes()]  # actually only if n != e[1], but set filters that out later\n",
    "\n",
    "def corrupted_head_samples(e, G):\n",
    "    return [(n, e[1]) for n in G.nodes()]\n",
    "\n",
    "def filter_candidates(candidates, filter_edges):\n",
    "    return {c for c in candidates if c not in filter_edges}\n",
    "\n",
    "def score(c):\n",
    "    return random.random()\n",
    "\n",
    "def score_by_degree(c):\n",
    "    left_degree = G_train.degree(c[0]) if c[0] in G_train else 0\n",
    "    right_degree = G_train.degree(c[1]) if c[1] in G_train else 0\n",
    "    return left_degree + right_degree\n",
    "\n",
    "def score_by_edge_count(c):\n",
    "    in_edges = G_train.in_edges(c[1]) if c[1] in G_train else []\n",
    "    out_edges = G_train.out_edges(c[0]) if c[0] in G_train else []\n",
    "    return len(in_edges) + len(out_edges)\n",
    "\n",
    "\n",
    "def compute_metrics(G, score_fn, k=10, filter_graphs=None):\n",
    "    if not filter_graphs:\n",
    "        filter_edges = set(G.edges())\n",
    "    else:\n",
    "        filter_edges = set()\n",
    "        for g in filter_graphs:\n",
    "            filter_edges |= set(g.edges())\n",
    "    ranks = []\n",
    "    reciprocal_ranks = []\n",
    "    hit_at_k = []\n",
    "    for e in G.edges():\n",
    "        candidates = set()\n",
    "        candidates |= set(corrupted_tail_samples(e, G))\n",
    "        candidates |= set(corrupted_head_samples(e, G))\n",
    "        assert len(candidates) == len(G.nodes()) * 2 - 1  # -1 because otherwise the self-edge is counted twice\n",
    "        filtered_candidates = filter_candidates(candidates, filter_edges)  # TODO Here we want to filter out all true edges from all sets\n",
    "        filtered_candidates |= {(e[0], e[1])}\n",
    "\n",
    "        true_edges = {x for x in G.edges() if x[0] == e[0] or x[1] == e[1]}\n",
    "        assert len(filtered_candidates) == len(candidates) - len(true_edges) + 1\n",
    "\n",
    "        score_list = [(c, score_fn(c)) for c in filtered_candidates]\n",
    "        random.shuffle(score_list)\n",
    "        score_list.sort(key=lambda x: x[1], reverse=True)\n",
    "        for j, ((n1, n2), _) in enumerate(score_list):\n",
    "            if (n1, n2) == e:\n",
    "                ranks.append(j + 1)\n",
    "                reciprocal_ranks.append(1 / (j + 1))\n",
    "                hit_at_k.append(j + 1 <= k)\n",
    "                break\n",
    "    assert len(ranks) == len(reciprocal_ranks) == len(hit_at_k) == len(G.edges())\n",
    "    return ranks, reciprocal_ranks, hit_at_k\n",
    "\n",
    "ranks, reciprocal_ranks, hit_at_k = compute_metrics(G, score, filter_graphs=[G])\n",
    "print(\"mean rank:\", sum(ranks) / len(ranks))\n",
    "print(\"mean reciprocal rank:\", sum(reciprocal_ranks) / len(reciprocal_ranks))\n",
    "print(\"hit at k:\", sum(hit_at_k) / len(hit_at_k))\n",
    "print('number of hits at k:', sum(hit_at_k))\n",
    "\n",
    "ranks, reciprocal_ranks, hit_at_k = compute_metrics(G, score_by_degree)\n",
    "print(\"mean rank:\", sum(ranks) / len(ranks))\n",
    "print(\"mean reciprocal rank:\", sum(reciprocal_ranks) / len(reciprocal_ranks))\n",
    "print(\"hit at k:\", sum(hit_at_k) / len(hit_at_k))\n",
    "print('number of hits at k:', sum(hit_at_k))\n",
    "\n",
    "ranks, reciprocal_ranks, hit_at_k = compute_metrics(G, score_by_edge_count)\n",
    "print(\"mean rank:\", sum(ranks) / len(ranks))\n",
    "print(\"mean reciprocal rank:\", sum(reciprocal_ranks) / len(reciprocal_ranks))\n",
    "print(\"hit at k:\", sum(hit_at_k) / len(hit_at_k))\n",
    "print('number of hits at k:', sum(hit_at_k))\n"
   ]
  },
  {
   "cell_type": "code",
   "execution_count": 709,
   "metadata": {},
   "outputs": [],
   "source": [
    "m = 10000\n",
    "n = len(G.edges())\n",
    "bootstrap_mean_ranks = []\n",
    "bootstrap_mean_reciprocal_ranks = []\n",
    "bootstrap_mean_hit_at_k = []\n",
    "for i in range(m):\n",
    "    bootstrap_ranks = random.choices(ranks, k=n)\n",
    "    bootstrap_reciprocal_ranks = random.choices(reciprocal_ranks, k=n)\n",
    "    bootstrap_hit_at_k = random.choices(hit_at_k, k=n)\n",
    "    bootstrap_mean_ranks.append(sum(bootstrap_ranks) / len(bootstrap_ranks))\n",
    "    bootstrap_mean_reciprocal_ranks.append(sum(bootstrap_reciprocal_ranks) / len(bootstrap_reciprocal_ranks))\n",
    "    bootstrap_mean_hit_at_k.append(sum(bootstrap_hit_at_k))\n"
   ]
  },
  {
   "cell_type": "code",
   "execution_count": 710,
   "metadata": {},
   "outputs": [
    {
     "data": {
      "text/plain": [
       "<Axes: >"
      ]
     },
     "execution_count": 710,
     "metadata": {},
     "output_type": "execute_result"
    },
    {
     "data": {
      "image/png": "[encoded data removed]",
      "text/plain": [
       "<Figure size 640x480 with 1 Axes>"
      ]
     },
     "metadata": {},
     "output_type": "display_data"
    }
   ],
   "source": [
    "\n",
    "# Plot the distribution of mean ranks\n",
    "pd.Series(bootstrap_mean_ranks).hist(bins=50)"
   ]
  },
  {
   "cell_type": "code",
   "execution_count": 711,
   "metadata": {},
   "outputs": [
    {
     "data": {
      "text/plain": [
       "<Axes: >"
      ]
     },
     "execution_count": 711,
     "metadata": {},
     "output_type": "execute_result"
    },
    {
     "data": {
      "image/png": "[encoded data removed]",
      "text/plain": [
       "<Figure size 640x480 with 1 Axes>"
      ]
     },
     "metadata": {},
     "output_type": "display_data"
    }
   ],
   "source": [
    "\n",
    "# Plot the distribution of mean reciprocal ranks\n",
    "pd.Series(bootstrap_mean_reciprocal_ranks).hist(bins=50)"
   ]
  },
  {
   "cell_type": "code",
   "execution_count": 712,
   "metadata": {},
   "outputs": [
    {
     "data": {
      "text/plain": [
       "<Axes: >"
      ]
     },
     "execution_count": 712,
     "metadata": {},
     "output_type": "execute_result"
    },
    {
     "data": {
      "image/png": "[encoded data removed]",
      "text/plain": [
       "<Figure size 640x480 with 1 Axes>"
      ]
     },
     "metadata": {},
     "output_type": "display_data"
    }
   ],
   "source": [
    "\n",
    "# Plot the distribution of hit at k\n",
    "pd.Series(bootstrap_mean_hit_at_k).hist(bins=50)"
   ]
  },
  {
   "cell_type": "code",
   "execution_count": null,
   "metadata": {},
   "outputs": [],
   "source": []
  }
 ],
 "metadata": {
  "language_info": {
   "name": "python"
  },
  "orig_nbformat": 4
 },
 "nbformat": 4,
 "nbformat_minor": 2
}
