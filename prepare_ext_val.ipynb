{
 "cells": [
  {
   "cell_type": "code",
   "execution_count": 1,
   "metadata": {},
   "outputs": [],
   "source": [
    "import pandas as pd \n",
    "import numpy as np"
   ]
  },
  {
   "cell_type": "code",
   "execution_count": 3,
   "metadata": {},
   "outputs": [
    {
     "data": {
      "text/plain": [
       "'/Users/lisa/Documents/Uni/ML4RG/linkpred'"
      ]
     },
     "execution_count": 3,
     "metadata": {},
     "output_type": "execute_result"
    }
   ],
   "source": [
    "pwd"
   ]
  },
  {
   "cell_type": "code",
   "execution_count": 26,
   "metadata": {},
   "outputs": [],
   "source": [
    "chia_pet = pd.read_csv(\"NBFNet/data/ext_val/external_val_chia-pet.tsv\", sep=\"\\t\")\n",
    "crispri = pd.read_csv(\"NBFNet/data/ext_val/external_val_crispri.tsv\", sep=\"\\t\")\n",
    "train = pd.read_csv(\"NBFNet/data/lnctard/train.txt\", sep=\"\\t\", names=[\"head\", \"relation\", \"tail\"])\n",
    "val = pd.read_csv(\"/Users/lisa/Documents/Uni/ML4RG/linkpred/NBFNet/data/lnctard/valid.txt\", sep=\"\\t\", names=[\"head\", \"relation\", \"tail\"])\n",
    "train_val = pd.concat([train, val], axis = 0, ignore_index=True)"
   ]
  },
  {
   "cell_type": "code",
   "execution_count": 10,
   "metadata": {},
   "outputs": [
    {
     "data": {
      "text/html": [
       "<div>\n",
       "<style scoped>\n",
       "    .dataframe tbody tr th:only-of-type {\n",
       "        vertical-align: middle;\n",
       "    }\n",
       "\n",
       "    .dataframe tbody tr th {\n",
       "        vertical-align: top;\n",
       "    }\n",
       "\n",
       "    .dataframe thead th {\n",
       "        text-align: right;\n",
       "    }\n",
       "</style>\n",
       "<table border=\"1\" class=\"dataframe\">\n",
       "  <thead>\n",
       "    <tr style=\"text-align: right;\">\n",
       "      <th></th>\n",
       "      <th>head</th>\n",
       "      <th>relation</th>\n",
       "      <th>tail</th>\n",
       "    </tr>\n",
       "  </thead>\n",
       "  <tbody>\n",
       "    <tr>\n",
       "      <th>0</th>\n",
       "      <td>LEF1-AS1</td>\n",
       "      <td>expression association</td>\n",
       "      <td>LEF1</td>\n",
       "    </tr>\n",
       "    <tr>\n",
       "      <th>1</th>\n",
       "      <td>ZEB1-AS1</td>\n",
       "      <td>expression association</td>\n",
       "      <td>BAX</td>\n",
       "    </tr>\n",
       "    <tr>\n",
       "      <th>2</th>\n",
       "      <td>HNF1A-AS1</td>\n",
       "      <td>transcriptional regulation</td>\n",
       "      <td>OTX1</td>\n",
       "    </tr>\n",
       "    <tr>\n",
       "      <th>3</th>\n",
       "      <td>SCARNA2</td>\n",
       "      <td>ceRNA or sponge</td>\n",
       "      <td>EGFR</td>\n",
       "    </tr>\n",
       "    <tr>\n",
       "      <th>4</th>\n",
       "      <td>LINC00473</td>\n",
       "      <td>expression association</td>\n",
       "      <td>MMP9</td>\n",
       "    </tr>\n",
       "  </tbody>\n",
       "</table>\n",
       "</div>"
      ],
      "text/plain": [
       "        head                    relation  tail\n",
       "0   LEF1-AS1      expression association  LEF1\n",
       "1   ZEB1-AS1      expression association   BAX\n",
       "2  HNF1A-AS1  transcriptional regulation  OTX1\n",
       "3    SCARNA2             ceRNA or sponge  EGFR\n",
       "4  LINC00473      expression association  MMP9"
      ]
     },
     "execution_count": 10,
     "metadata": {},
     "output_type": "execute_result"
    }
   ],
   "source": [
    "val.head()"
   ]
  },
  {
   "cell_type": "code",
   "execution_count": 11,
   "metadata": {},
   "outputs": [
    {
     "data": {
      "text/html": [
       "<div>\n",
       "<style scoped>\n",
       "    .dataframe tbody tr th:only-of-type {\n",
       "        vertical-align: middle;\n",
       "    }\n",
       "\n",
       "    .dataframe tbody tr th {\n",
       "        vertical-align: top;\n",
       "    }\n",
       "\n",
       "    .dataframe thead th {\n",
       "        text-align: right;\n",
       "    }\n",
       "</style>\n",
       "<table border=\"1\" class=\"dataframe\">\n",
       "  <thead>\n",
       "    <tr style=\"text-align: right;\">\n",
       "      <th></th>\n",
       "      <th>head</th>\n",
       "      <th>relation</th>\n",
       "      <th>tail</th>\n",
       "    </tr>\n",
       "  </thead>\n",
       "  <tbody>\n",
       "    <tr>\n",
       "      <th>0</th>\n",
       "      <td>91H</td>\n",
       "      <td>epigenetic regulation</td>\n",
       "      <td>H19</td>\n",
       "    </tr>\n",
       "    <tr>\n",
       "      <th>1</th>\n",
       "      <td>91H</td>\n",
       "      <td>epigenetic regulation</td>\n",
       "      <td>IGF2</td>\n",
       "    </tr>\n",
       "    <tr>\n",
       "      <th>2</th>\n",
       "      <td>91H</td>\n",
       "      <td>interact with protein</td>\n",
       "      <td>HNRNPK</td>\n",
       "    </tr>\n",
       "    <tr>\n",
       "      <th>3</th>\n",
       "      <td>A2M-AS1</td>\n",
       "      <td>expression association</td>\n",
       "      <td>CD2</td>\n",
       "    </tr>\n",
       "    <tr>\n",
       "      <th>4</th>\n",
       "      <td>A2M-AS1</td>\n",
       "      <td>expression association</td>\n",
       "      <td>IL1R2</td>\n",
       "    </tr>\n",
       "  </tbody>\n",
       "</table>\n",
       "</div>"
      ],
      "text/plain": [
       "      head                relation    tail\n",
       "0      91H   epigenetic regulation     H19\n",
       "1      91H   epigenetic regulation    IGF2\n",
       "2      91H   interact with protein  HNRNPK\n",
       "3  A2M-AS1  expression association     CD2\n",
       "4  A2M-AS1  expression association   IL1R2"
      ]
     },
     "execution_count": 11,
     "metadata": {},
     "output_type": "execute_result"
    }
   ],
   "source": [
    "train.head()"
   ]
  },
  {
   "cell_type": "code",
   "execution_count": 29,
   "metadata": {},
   "outputs": [
    {
     "data": {
      "text/html": [
       "<div>\n",
       "<style scoped>\n",
       "    .dataframe tbody tr th:only-of-type {\n",
       "        vertical-align: middle;\n",
       "    }\n",
       "\n",
       "    .dataframe tbody tr th {\n",
       "        vertical-align: top;\n",
       "    }\n",
       "\n",
       "    .dataframe thead th {\n",
       "        text-align: right;\n",
       "    }\n",
       "</style>\n",
       "<table border=\"1\" class=\"dataframe\">\n",
       "  <thead>\n",
       "    <tr style=\"text-align: right;\">\n",
       "      <th></th>\n",
       "      <th>head</th>\n",
       "      <th>relation</th>\n",
       "      <th>tail</th>\n",
       "    </tr>\n",
       "    <tr>\n",
       "      <th>key</th>\n",
       "      <th></th>\n",
       "      <th></th>\n",
       "      <th></th>\n",
       "    </tr>\n",
       "  </thead>\n",
       "  <tbody>\n",
       "    <tr>\n",
       "      <th>(MARCKS, PVT1_2)</th>\n",
       "      <td>PVT1_2</td>\n",
       "      <td>affects</td>\n",
       "      <td>MARCKS</td>\n",
       "    </tr>\n",
       "    <tr>\n",
       "      <th>(MIR29A, NAGK)</th>\n",
       "      <td>MIR29A</td>\n",
       "      <td>affects</td>\n",
       "      <td>NAGK</td>\n",
       "    </tr>\n",
       "    <tr>\n",
       "      <th>(E2F1, PVT1_1)</th>\n",
       "      <td>PVT1_1</td>\n",
       "      <td>affects</td>\n",
       "      <td>E2F1</td>\n",
       "    </tr>\n",
       "    <tr>\n",
       "      <th>(SNHG12, TTC37)</th>\n",
       "      <td>SNHG12</td>\n",
       "      <td>affects</td>\n",
       "      <td>TTC37</td>\n",
       "    </tr>\n",
       "    <tr>\n",
       "      <th>(CTPS1, RP11-126L15.4)</th>\n",
       "      <td>RP11-126L15.4</td>\n",
       "      <td>affects</td>\n",
       "      <td>CTPS1</td>\n",
       "    </tr>\n",
       "    <tr>\n",
       "      <th>...</th>\n",
       "      <td>...</td>\n",
       "      <td>...</td>\n",
       "      <td>...</td>\n",
       "    </tr>\n",
       "    <tr>\n",
       "      <th>(MIR29A, WRB)</th>\n",
       "      <td>MIR29A</td>\n",
       "      <td>affects</td>\n",
       "      <td>WRB</td>\n",
       "    </tr>\n",
       "    <tr>\n",
       "      <th>(CCAT1_2, EDIL3)</th>\n",
       "      <td>CCAT1_2</td>\n",
       "      <td>affects</td>\n",
       "      <td>EDIL3</td>\n",
       "    </tr>\n",
       "    <tr>\n",
       "      <th>(CCAT1_2, SAT1)</th>\n",
       "      <td>CCAT1_2</td>\n",
       "      <td>affects</td>\n",
       "      <td>SAT1</td>\n",
       "    </tr>\n",
       "    <tr>\n",
       "      <th>(MIR29A, RP11-22P6.3)</th>\n",
       "      <td>MIR29A</td>\n",
       "      <td>affects</td>\n",
       "      <td>RP11-22P6.3</td>\n",
       "    </tr>\n",
       "    <tr>\n",
       "      <th>(CNTLN, MIR29A)</th>\n",
       "      <td>MIR29A</td>\n",
       "      <td>affects</td>\n",
       "      <td>CNTLN</td>\n",
       "    </tr>\n",
       "  </tbody>\n",
       "</table>\n",
       "<p>18521 rows × 3 columns</p>\n",
       "</div>"
      ],
      "text/plain": [
       "                                 head relation         tail\n",
       "key                                                        \n",
       "(MARCKS, PVT1_2)               PVT1_2  affects       MARCKS\n",
       "(MIR29A, NAGK)                 MIR29A  affects         NAGK\n",
       "(E2F1, PVT1_1)                 PVT1_1  affects         E2F1\n",
       "(SNHG12, TTC37)                SNHG12  affects        TTC37\n",
       "(CTPS1, RP11-126L15.4)  RP11-126L15.4  affects        CTPS1\n",
       "...                               ...      ...          ...\n",
       "(MIR29A, WRB)                  MIR29A  affects          WRB\n",
       "(CCAT1_2, EDIL3)              CCAT1_2  affects        EDIL3\n",
       "(CCAT1_2, SAT1)               CCAT1_2  affects         SAT1\n",
       "(MIR29A, RP11-22P6.3)          MIR29A  affects  RP11-22P6.3\n",
       "(CNTLN, MIR29A)                MIR29A  affects        CNTLN\n",
       "\n",
       "[18521 rows x 3 columns]"
      ]
     },
     "execution_count": 29,
     "metadata": {},
     "output_type": "execute_result"
    }
   ],
   "source": [
    "train_val[\"key\"] = train_val[[\"head\", \"tail\"]].apply(lambda row: tuple(sorted(row)), axis=1)\n",
    "chia_pet[\"key\"] = chia_pet[[\"head\", \"tail\"]].apply(lambda row: tuple(sorted(row)), axis=1)\n",
    "crispri[\"key\"] = crispri[[\"head\", \"tail\"]].apply(lambda row: tuple(sorted(row)), axis=1)\n",
    "train_val.set_index(\"key\")\n",
    "chia_pet.set_index(\"key\")\n",
    "crispri.set_index(\"key\")"
   ]
  },
  {
   "cell_type": "code",
   "execution_count": 16,
   "metadata": {},
   "outputs": [
    {
     "data": {
      "text/html": [
       "<div>\n",
       "<style scoped>\n",
       "    .dataframe tbody tr th:only-of-type {\n",
       "        vertical-align: middle;\n",
       "    }\n",
       "\n",
       "    .dataframe tbody tr th {\n",
       "        vertical-align: top;\n",
       "    }\n",
       "\n",
       "    .dataframe thead th {\n",
       "        text-align: right;\n",
       "    }\n",
       "</style>\n",
       "<table border=\"1\" class=\"dataframe\">\n",
       "  <thead>\n",
       "    <tr style=\"text-align: right;\">\n",
       "      <th></th>\n",
       "      <th>head</th>\n",
       "      <th>relation</th>\n",
       "      <th>tail</th>\n",
       "      <th>key</th>\n",
       "    </tr>\n",
       "  </thead>\n",
       "  <tbody>\n",
       "    <tr>\n",
       "      <th>0</th>\n",
       "      <td>91H</td>\n",
       "      <td>epigenetic regulation</td>\n",
       "      <td>H19</td>\n",
       "      <td>(91H, H19)</td>\n",
       "    </tr>\n",
       "    <tr>\n",
       "      <th>1</th>\n",
       "      <td>91H</td>\n",
       "      <td>epigenetic regulation</td>\n",
       "      <td>IGF2</td>\n",
       "      <td>(91H, IGF2)</td>\n",
       "    </tr>\n",
       "    <tr>\n",
       "      <th>2</th>\n",
       "      <td>91H</td>\n",
       "      <td>interact with protein</td>\n",
       "      <td>HNRNPK</td>\n",
       "      <td>(91H, HNRNPK)</td>\n",
       "    </tr>\n",
       "    <tr>\n",
       "      <th>3</th>\n",
       "      <td>A2M-AS1</td>\n",
       "      <td>expression association</td>\n",
       "      <td>CD2</td>\n",
       "      <td>(A2M-AS1, CD2)</td>\n",
       "    </tr>\n",
       "    <tr>\n",
       "      <th>4</th>\n",
       "      <td>A2M-AS1</td>\n",
       "      <td>expression association</td>\n",
       "      <td>IL1R2</td>\n",
       "      <td>(A2M-AS1, IL1R2)</td>\n",
       "    </tr>\n",
       "  </tbody>\n",
       "</table>\n",
       "</div>"
      ],
      "text/plain": [
       "      head                relation    tail               key\n",
       "0      91H   epigenetic regulation     H19        (91H, H19)\n",
       "1      91H   epigenetic regulation    IGF2       (91H, IGF2)\n",
       "2      91H   interact with protein  HNRNPK     (91H, HNRNPK)\n",
       "3  A2M-AS1  expression association     CD2    (A2M-AS1, CD2)\n",
       "4  A2M-AS1  expression association   IL1R2  (A2M-AS1, IL1R2)"
      ]
     },
     "execution_count": 16,
     "metadata": {},
     "output_type": "execute_result"
    }
   ],
   "source": [
    "train_val.head()"
   ]
  },
  {
   "cell_type": "markdown",
   "metadata": {},
   "source": [
    "Exclude triplets from external test set that are present in validation or training set"
   ]
  },
  {
   "cell_type": "code",
   "execution_count": 52,
   "metadata": {},
   "outputs": [],
   "source": [
    "value = train_val[\"key\"].tolist()\n",
    "chia_filtered = chia_pet.loc[~chia_pet['key'].isin(value)]"
   ]
  },
  {
   "cell_type": "code",
   "execution_count": 51,
   "metadata": {},
   "outputs": [],
   "source": [
    "mask = ~crispri[\"key\"].isin(train_val[\"key\"])\n",
    "crispri_filtered = crispri.loc[mask]"
   ]
  },
  {
   "cell_type": "code",
   "execution_count": 54,
   "metadata": {},
   "outputs": [
    {
     "name": "stdout",
     "output_type": "stream",
     "text": [
      "Overlap Chia Pet: 3\n",
      "Overlap Crispri: 12\n"
     ]
    }
   ],
   "source": [
    "print(f\"Overlap Chia Pet: {len(chia_pet)-len(chia_filtered)}\")\n",
    "print(f\"Overlap Crispri: {len(crispri)-len(crispri_filtered)}\")"
   ]
  },
  {
   "cell_type": "markdown",
   "metadata": {},
   "source": [
    "Exclude triplets that contain nodes that were not present in the training data"
   ]
  },
  {
   "cell_type": "code",
   "execution_count": 61,
   "metadata": {},
   "outputs": [],
   "source": [
    "train_nodes = pd.concat([train[\"head\"], train[\"tail\"]]).unique()"
   ]
  },
  {
   "cell_type": "code",
   "execution_count": 57,
   "metadata": {},
   "outputs": [
    {
     "data": {
      "text/plain": [
       "2963"
      ]
     },
     "execution_count": 57,
     "metadata": {},
     "output_type": "execute_result"
    }
   ],
   "source": [
    "len(list_of_nodes)"
   ]
  },
  {
   "cell_type": "code",
   "execution_count": 71,
   "metadata": {},
   "outputs": [],
   "source": [
    "mask_nodes_crisp = (crispri_filtered[\"head\"].isin(train_nodes) & crispri_filtered[\"tail\"].isin(train_nodes))\n",
    "mask_nodes_chia = (chia_filtered[\"head\"].isin(train_nodes) & chia_filtered[\"tail\"].isin(train_nodes))"
   ]
  },
  {
   "cell_type": "code",
   "execution_count": 74,
   "metadata": {},
   "outputs": [
    {
     "data": {
      "text/plain": [
       "2657"
      ]
     },
     "execution_count": 74,
     "metadata": {},
     "output_type": "execute_result"
    }
   ],
   "source": [
    "len(mask_nodes_chia)"
   ]
  },
  {
   "cell_type": "code",
   "execution_count": 75,
   "metadata": {},
   "outputs": [
    {
     "data": {
      "text/plain": [
       "2657"
      ]
     },
     "execution_count": 75,
     "metadata": {},
     "output_type": "execute_result"
    }
   ],
   "source": [
    "len(chia_filtered)"
   ]
  },
  {
   "cell_type": "code",
   "execution_count": 76,
   "metadata": {
    "scrolled": true
   },
   "outputs": [
    {
     "ename": "IndexingError",
     "evalue": "Unalignable boolean Series provided as indexer (index of the boolean Series and of the indexed object do not match).",
     "output_type": "error",
     "traceback": [
      "\u001B[0;31m---------------------------------------------------------------------------\u001B[0m",
      "\u001B[0;31mIndexingError\u001B[0m                             Traceback (most recent call last)",
      "Input \u001B[0;32mIn [76]\u001B[0m, in \u001B[0;36m<cell line: 1>\u001B[0;34m()\u001B[0m\n\u001B[0;32m----> 1\u001B[0m chia_filtered\u001B[38;5;241m=\u001B[39m \u001B[43mchia_filtered\u001B[49m\u001B[38;5;241;43m.\u001B[39;49m\u001B[43mloc\u001B[49m\u001B[43m[\u001B[49m\u001B[43mmask_nodes_crisp\u001B[49m\u001B[43m]\u001B[49m\n\u001B[1;32m      2\u001B[0m crispri_filtered \u001B[38;5;241m=\u001B[39m crispri_filtered\u001B[38;5;241m.\u001B[39mloc[mask_nodes_chia]\n",
      "File \u001B[0;32m~/opt/anaconda3/lib/python3.9/site-packages/pandas/core/indexing.py:967\u001B[0m, in \u001B[0;36m_LocationIndexer.__getitem__\u001B[0;34m(self, key)\u001B[0m\n\u001B[1;32m    964\u001B[0m axis \u001B[38;5;241m=\u001B[39m \u001B[38;5;28mself\u001B[39m\u001B[38;5;241m.\u001B[39maxis \u001B[38;5;129;01mor\u001B[39;00m \u001B[38;5;241m0\u001B[39m\n\u001B[1;32m    966\u001B[0m maybe_callable \u001B[38;5;241m=\u001B[39m com\u001B[38;5;241m.\u001B[39mapply_if_callable(key, \u001B[38;5;28mself\u001B[39m\u001B[38;5;241m.\u001B[39mobj)\n\u001B[0;32m--> 967\u001B[0m \u001B[38;5;28;01mreturn\u001B[39;00m \u001B[38;5;28;43mself\u001B[39;49m\u001B[38;5;241;43m.\u001B[39;49m\u001B[43m_getitem_axis\u001B[49m\u001B[43m(\u001B[49m\u001B[43mmaybe_callable\u001B[49m\u001B[43m,\u001B[49m\u001B[43m \u001B[49m\u001B[43maxis\u001B[49m\u001B[38;5;241;43m=\u001B[39;49m\u001B[43maxis\u001B[49m\u001B[43m)\u001B[49m\n",
      "File \u001B[0;32m~/opt/anaconda3/lib/python3.9/site-packages/pandas/core/indexing.py:1182\u001B[0m, in \u001B[0;36m_LocIndexer._getitem_axis\u001B[0;34m(self, key, axis)\u001B[0m\n\u001B[1;32m   1180\u001B[0m     \u001B[38;5;28;01mreturn\u001B[39;00m \u001B[38;5;28mself\u001B[39m\u001B[38;5;241m.\u001B[39m_get_slice_axis(key, axis\u001B[38;5;241m=\u001B[39maxis)\n\u001B[1;32m   1181\u001B[0m \u001B[38;5;28;01melif\u001B[39;00m com\u001B[38;5;241m.\u001B[39mis_bool_indexer(key):\n\u001B[0;32m-> 1182\u001B[0m     \u001B[38;5;28;01mreturn\u001B[39;00m \u001B[38;5;28;43mself\u001B[39;49m\u001B[38;5;241;43m.\u001B[39;49m\u001B[43m_getbool_axis\u001B[49m\u001B[43m(\u001B[49m\u001B[43mkey\u001B[49m\u001B[43m,\u001B[49m\u001B[43m \u001B[49m\u001B[43maxis\u001B[49m\u001B[38;5;241;43m=\u001B[39;49m\u001B[43maxis\u001B[49m\u001B[43m)\u001B[49m\n\u001B[1;32m   1183\u001B[0m \u001B[38;5;28;01melif\u001B[39;00m is_list_like_indexer(key):\n\u001B[1;32m   1184\u001B[0m \n\u001B[1;32m   1185\u001B[0m     \u001B[38;5;66;03m# an iterable multi-selection\u001B[39;00m\n\u001B[1;32m   1186\u001B[0m     \u001B[38;5;28;01mif\u001B[39;00m \u001B[38;5;129;01mnot\u001B[39;00m (\u001B[38;5;28misinstance\u001B[39m(key, \u001B[38;5;28mtuple\u001B[39m) \u001B[38;5;129;01mand\u001B[39;00m \u001B[38;5;28misinstance\u001B[39m(labels, MultiIndex)):\n",
      "File \u001B[0;32m~/opt/anaconda3/lib/python3.9/site-packages/pandas/core/indexing.py:984\u001B[0m, in \u001B[0;36m_LocationIndexer._getbool_axis\u001B[0;34m(self, key, axis)\u001B[0m\n\u001B[1;32m    981\u001B[0m \u001B[38;5;28;01mdef\u001B[39;00m \u001B[38;5;21m_getbool_axis\u001B[39m(\u001B[38;5;28mself\u001B[39m, key, axis: \u001B[38;5;28mint\u001B[39m):\n\u001B[1;32m    982\u001B[0m     \u001B[38;5;66;03m# caller is responsible for ensuring non-None axis\u001B[39;00m\n\u001B[1;32m    983\u001B[0m     labels \u001B[38;5;241m=\u001B[39m \u001B[38;5;28mself\u001B[39m\u001B[38;5;241m.\u001B[39mobj\u001B[38;5;241m.\u001B[39m_get_axis(axis)\n\u001B[0;32m--> 984\u001B[0m     key \u001B[38;5;241m=\u001B[39m \u001B[43mcheck_bool_indexer\u001B[49m\u001B[43m(\u001B[49m\u001B[43mlabels\u001B[49m\u001B[43m,\u001B[49m\u001B[43m \u001B[49m\u001B[43mkey\u001B[49m\u001B[43m)\u001B[49m\n\u001B[1;32m    985\u001B[0m     inds \u001B[38;5;241m=\u001B[39m key\u001B[38;5;241m.\u001B[39mnonzero()[\u001B[38;5;241m0\u001B[39m]\n\u001B[1;32m    986\u001B[0m     \u001B[38;5;28;01mreturn\u001B[39;00m \u001B[38;5;28mself\u001B[39m\u001B[38;5;241m.\u001B[39mobj\u001B[38;5;241m.\u001B[39m_take_with_is_copy(inds, axis\u001B[38;5;241m=\u001B[39maxis)\n",
      "File \u001B[0;32m~/opt/anaconda3/lib/python3.9/site-packages/pandas/core/indexing.py:2383\u001B[0m, in \u001B[0;36mcheck_bool_indexer\u001B[0;34m(index, key)\u001B[0m\n\u001B[1;32m   2381\u001B[0m     mask \u001B[38;5;241m=\u001B[39m isna(result\u001B[38;5;241m.\u001B[39m_values)\n\u001B[1;32m   2382\u001B[0m     \u001B[38;5;28;01mif\u001B[39;00m mask\u001B[38;5;241m.\u001B[39many():\n\u001B[0;32m-> 2383\u001B[0m         \u001B[38;5;28;01mraise\u001B[39;00m IndexingError(\n\u001B[1;32m   2384\u001B[0m             \u001B[38;5;124m\"\u001B[39m\u001B[38;5;124mUnalignable boolean Series provided as \u001B[39m\u001B[38;5;124m\"\u001B[39m\n\u001B[1;32m   2385\u001B[0m             \u001B[38;5;124m\"\u001B[39m\u001B[38;5;124mindexer (index of the boolean Series and of \u001B[39m\u001B[38;5;124m\"\u001B[39m\n\u001B[1;32m   2386\u001B[0m             \u001B[38;5;124m\"\u001B[39m\u001B[38;5;124mthe indexed object do not match).\u001B[39m\u001B[38;5;124m\"\u001B[39m\n\u001B[1;32m   2387\u001B[0m         )\n\u001B[1;32m   2388\u001B[0m     \u001B[38;5;28;01mreturn\u001B[39;00m result\u001B[38;5;241m.\u001B[39mastype(\u001B[38;5;28mbool\u001B[39m)\u001B[38;5;241m.\u001B[39m_values\n\u001B[1;32m   2389\u001B[0m \u001B[38;5;28;01mif\u001B[39;00m is_object_dtype(key):\n\u001B[1;32m   2390\u001B[0m     \u001B[38;5;66;03m# key might be object-dtype bool, check_array_indexer needs bool array\u001B[39;00m\n",
      "\u001B[0;31mIndexingError\u001B[0m: Unalignable boolean Series provided as indexer (index of the boolean Series and of the indexed object do not match)."
     ]
    }
   ],
   "source": [
    "chia_filtered= chia_filtered.loc[mask_nodes_crisp]\n",
    "crispri_filtered = crispri_filtered.loc[mask_nodes_chia]"
   ]
  }
 ],
 "metadata": {
  "kernelspec": {
   "display_name": "Python 3 (ipykernel)",
   "language": "python",
   "name": "python3"
  },
  "language_info": {
   "codemirror_mode": {
    "name": "ipython",
    "version": 3
   },
   "file_extension": ".py",
   "mimetype": "text/x-python",
   "name": "python",
   "nbconvert_exporter": "python",
   "pygments_lexer": "ipython3",
   "version": "3.9.12"
  }
 },
 "nbformat": 4,
 "nbformat_minor": 1
}
