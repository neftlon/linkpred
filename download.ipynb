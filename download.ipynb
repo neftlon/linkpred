{
 "cells": [
  {
   "cell_type": "markdown",
   "id": "698d0803",
   "metadata": {},
   "source": [
    "This notebook contains code related to downloading the dataset, and converting it into a list of tuples $(h,r,t)$ (corresponding to head, relation, tail). The list is stored in `data/dataset.tsv`. Next to it, we store lookup tables for the types of targets and regulators. (`data/target2type.csv` and `data/regulator2type.csv` respectively.)"
   ]
  },
  {
   "cell_type": "code",
   "execution_count": 1,
   "id": "81dd2574",
   "metadata": {},
   "outputs": [],
   "source": [
    "from dataset import load_lnctard, df2nx\n",
    "import pandas as pd"
   ]
  },
  {
   "cell_type": "markdown",
   "id": "e2b069ac",
   "metadata": {},
   "source": [
    "### 🛒  Download and load dataset"
   ]
  },
  {
   "cell_type": "code",
   "execution_count": 2,
   "id": "4eed6b75",
   "metadata": {},
   "outputs": [],
   "source": [
    "!mkdir -p data\n",
    "!wget https://lnctard.bio-database.com/downloadfile/lnctard2.0.zip -qO- | zcat > data/lnctard2.0.txt"
   ]
  },
  {
   "cell_type": "markdown",
   "id": "887164c8",
   "metadata": {},
   "source": [
    "load raw dataset, for some reason `utf-8` does not work for decoding, but `latin-1` seems to work"
   ]
  },
  {
   "cell_type": "code",
   "execution_count": 2,
   "id": "09264f0f",
   "metadata": {},
   "outputs": [],
   "source": [
    "df = load_lnctard()"
   ]
  },
  {
   "cell_type": "code",
   "execution_count": 3,
   "id": "5f60b937",
   "metadata": {},
   "outputs": [
    {
     "data": {
      "text/html": [
       "<div>\n",
       "<style scoped>\n",
       "    .dataframe tbody tr th:only-of-type {\n",
       "        vertical-align: middle;\n",
       "    }\n",
       "\n",
       "    .dataframe tbody tr th {\n",
       "        vertical-align: top;\n",
       "    }\n",
       "\n",
       "    .dataframe thead th {\n",
       "        text-align: right;\n",
       "    }\n",
       "</style>\n",
       "<table border=\"1\" class=\"dataframe\">\n",
       "  <thead>\n",
       "    <tr style=\"text-align: right;\">\n",
       "      <th></th>\n",
       "      <th>Regulator</th>\n",
       "      <th>Target</th>\n",
       "      <th>SearchregulatoryMechanism</th>\n",
       "      <th>RegulatorType</th>\n",
       "      <th>TargetType</th>\n",
       "    </tr>\n",
       "  </thead>\n",
       "  <tbody>\n",
       "    <tr>\n",
       "      <th>0</th>\n",
       "      <td>LINC00313</td>\n",
       "      <td>miR-4429</td>\n",
       "      <td>ceRNA or sponge</td>\n",
       "      <td>lncRNA</td>\n",
       "      <td>miRNA</td>\n",
       "    </tr>\n",
       "    <tr>\n",
       "      <th>1</th>\n",
       "      <td>FAM83H-AS1</td>\n",
       "      <td>CDKN1A</td>\n",
       "      <td>epigenetic regulation</td>\n",
       "      <td>lncRNA</td>\n",
       "      <td>PCG</td>\n",
       "    </tr>\n",
       "    <tr>\n",
       "      <th>2</th>\n",
       "      <td>NEAT1</td>\n",
       "      <td>TGFB1</td>\n",
       "      <td>ceRNA or sponge</td>\n",
       "      <td>lncRNA</td>\n",
       "      <td>PCG</td>\n",
       "    </tr>\n",
       "    <tr>\n",
       "      <th>3</th>\n",
       "      <td>NEAT1</td>\n",
       "      <td>ZEB1</td>\n",
       "      <td>ceRNA or sponge</td>\n",
       "      <td>lncRNA</td>\n",
       "      <td>TF</td>\n",
       "    </tr>\n",
       "    <tr>\n",
       "      <th>4</th>\n",
       "      <td>ZFPM2-AS1</td>\n",
       "      <td>MIF</td>\n",
       "      <td>interact with protein</td>\n",
       "      <td>lncRNA</td>\n",
       "      <td>PCG</td>\n",
       "    </tr>\n",
       "  </tbody>\n",
       "</table>\n",
       "</div>"
      ],
      "text/plain": [
       "    Regulator    Target SearchregulatoryMechanism RegulatorType TargetType\n",
       "0   LINC00313  miR-4429           ceRNA or sponge        lncRNA      miRNA\n",
       "1  FAM83H-AS1    CDKN1A     epigenetic regulation        lncRNA        PCG\n",
       "2       NEAT1     TGFB1           ceRNA or sponge        lncRNA        PCG\n",
       "3       NEAT1      ZEB1           ceRNA or sponge        lncRNA         TF\n",
       "4   ZFPM2-AS1       MIF     interact with protein        lncRNA        PCG"
      ]
     },
     "execution_count": 3,
     "metadata": {},
     "output_type": "execute_result"
    }
   ],
   "source": [
    "df.head()"
   ]
  },
  {
   "cell_type": "markdown",
   "id": "4be9fec6",
   "metadata": {},
   "source": [
    "extract largest graph connection component"
   ]
  },
  {
   "cell_type": "code",
   "execution_count": 5,
   "id": "c35c86da",
   "metadata": {},
   "outputs": [],
   "source": [
    "largest_cc = df2nx(\n",
    "  df, head=\"Regulator\", tail=\"Target\",\n",
    "  relation=\"SearchregulatoryMechanism\",\n",
    "  cc_mode=\"largest\",\n",
    ")"
   ]
  },
  {
   "cell_type": "markdown",
   "id": "0e7979e0",
   "metadata": {},
   "source": [
    "### 🛍️ Extract tuples and store dataset"
   ]
  },
  {
   "cell_type": "code",
   "execution_count": 6,
   "id": "2a51f7f0",
   "metadata": {},
   "outputs": [
    {
     "name": "stdout",
     "output_type": "stream",
     "text": [
      "gathered 6773 tuples\n"
     ]
    },
    {
     "data": {
      "text/html": [
       "<div>\n",
       "<style scoped>\n",
       "    .dataframe tbody tr th:only-of-type {\n",
       "        vertical-align: middle;\n",
       "    }\n",
       "\n",
       "    .dataframe tbody tr th {\n",
       "        vertical-align: top;\n",
       "    }\n",
       "\n",
       "    .dataframe thead th {\n",
       "        text-align: right;\n",
       "    }\n",
       "</style>\n",
       "<table border=\"1\" class=\"dataframe\">\n",
       "  <thead>\n",
       "    <tr style=\"text-align: right;\">\n",
       "      <th></th>\n",
       "      <th>head</th>\n",
       "      <th>relation</th>\n",
       "      <th>tail</th>\n",
       "    </tr>\n",
       "  </thead>\n",
       "  <tbody>\n",
       "    <tr>\n",
       "      <th>0</th>\n",
       "      <td>LINC00313</td>\n",
       "      <td>ceRNA or sponge</td>\n",
       "      <td>miR-4429</td>\n",
       "    </tr>\n",
       "    <tr>\n",
       "      <th>1</th>\n",
       "      <td>LINC00313</td>\n",
       "      <td>transcriptional regulation</td>\n",
       "      <td>SOX2</td>\n",
       "    </tr>\n",
       "    <tr>\n",
       "      <th>2</th>\n",
       "      <td>LINC00313</td>\n",
       "      <td>ceRNA or sponge</td>\n",
       "      <td>MIR422A</td>\n",
       "    </tr>\n",
       "    <tr>\n",
       "      <th>3</th>\n",
       "      <td>LINC00313</td>\n",
       "      <td>ceRNA or sponge</td>\n",
       "      <td>FOSL2</td>\n",
       "    </tr>\n",
       "    <tr>\n",
       "      <th>4</th>\n",
       "      <td>LINC00313</td>\n",
       "      <td>epigenetic regulation</td>\n",
       "      <td>ALX4</td>\n",
       "    </tr>\n",
       "  </tbody>\n",
       "</table>\n",
       "</div>"
      ],
      "text/plain": [
       "        head                    relation      tail\n",
       "0  LINC00313             ceRNA or sponge  miR-4429\n",
       "1  LINC00313  transcriptional regulation      SOX2\n",
       "2  LINC00313             ceRNA or sponge   MIR422A\n",
       "3  LINC00313             ceRNA or sponge     FOSL2\n",
       "4  LINC00313       epigenetic regulation      ALX4"
      ]
     },
     "execution_count": 6,
     "metadata": {},
     "output_type": "execute_result"
    }
   ],
   "source": [
    "# create tuples (h,r,t)\n",
    "edgedata = largest_cc.edges.data(\"SearchregulatoryMechanism\")\n",
    "tuples = [(h,r,t) for h,t,r in edgedata] # swizzle t and r\n",
    "tuples = pd.DataFrame(tuples, columns=[\"head\",\"relation\",\"tail\"])\n",
    "print(\"gathered\",len(tuples),\"tuples\")\n",
    "tuples.head()"
   ]
  },
  {
   "cell_type": "code",
   "execution_count": 7,
   "id": "d3c67441",
   "metadata": {},
   "outputs": [],
   "source": [
    "tuples.to_csv(\"data/dataset.tsv\", sep=\"\\t\", index=False)"
   ]
  },
  {
   "cell_type": "markdown",
   "id": "541a6f4d",
   "metadata": {},
   "source": [
    "obtain from targets to target types and regulators to regulator types."
   ]
  },
  {
   "cell_type": "code",
   "execution_count": 8,
   "id": "05d06171",
   "metadata": {},
   "outputs": [
    {
     "data": {
      "text/html": [
       "<div>\n",
       "<style scoped>\n",
       "    .dataframe tbody tr th:only-of-type {\n",
       "        vertical-align: middle;\n",
       "    }\n",
       "\n",
       "    .dataframe tbody tr th {\n",
       "        vertical-align: top;\n",
       "    }\n",
       "\n",
       "    .dataframe thead th {\n",
       "        text-align: right;\n",
       "    }\n",
       "</style>\n",
       "<table border=\"1\" class=\"dataframe\">\n",
       "  <thead>\n",
       "    <tr style=\"text-align: right;\">\n",
       "      <th></th>\n",
       "      <th>Target</th>\n",
       "      <th>TargetType</th>\n",
       "    </tr>\n",
       "  </thead>\n",
       "  <tbody>\n",
       "    <tr>\n",
       "      <th>0</th>\n",
       "      <td>miR-4429</td>\n",
       "      <td>miRNA</td>\n",
       "    </tr>\n",
       "    <tr>\n",
       "      <th>1</th>\n",
       "      <td>CDKN1A</td>\n",
       "      <td>PCG</td>\n",
       "    </tr>\n",
       "    <tr>\n",
       "      <th>2</th>\n",
       "      <td>TGFB1</td>\n",
       "      <td>PCG</td>\n",
       "    </tr>\n",
       "    <tr>\n",
       "      <th>3</th>\n",
       "      <td>ZEB1</td>\n",
       "      <td>TF</td>\n",
       "    </tr>\n",
       "    <tr>\n",
       "      <th>4</th>\n",
       "      <td>MIF</td>\n",
       "      <td>PCG</td>\n",
       "    </tr>\n",
       "  </tbody>\n",
       "</table>\n",
       "</div>"
      ],
      "text/plain": [
       "     Target TargetType\n",
       "0  miR-4429      miRNA\n",
       "1    CDKN1A        PCG\n",
       "2     TGFB1        PCG\n",
       "3      ZEB1         TF\n",
       "4       MIF        PCG"
      ]
     },
     "execution_count": 8,
     "metadata": {},
     "output_type": "execute_result"
    }
   ],
   "source": [
    "target2type = df[[\"Target\",\"TargetType\"]].drop_duplicates(ignore_index=True)\n",
    "target2type.head()"
   ]
  },
  {
   "cell_type": "code",
   "execution_count": 9,
   "id": "4e76d6d7",
   "metadata": {},
   "outputs": [
    {
     "data": {
      "text/html": [
       "<div>\n",
       "<style scoped>\n",
       "    .dataframe tbody tr th:only-of-type {\n",
       "        vertical-align: middle;\n",
       "    }\n",
       "\n",
       "    .dataframe tbody tr th {\n",
       "        vertical-align: top;\n",
       "    }\n",
       "\n",
       "    .dataframe thead th {\n",
       "        text-align: right;\n",
       "    }\n",
       "</style>\n",
       "<table border=\"1\" class=\"dataframe\">\n",
       "  <thead>\n",
       "    <tr style=\"text-align: right;\">\n",
       "      <th></th>\n",
       "      <th>Regulator</th>\n",
       "      <th>RegulatorType</th>\n",
       "    </tr>\n",
       "  </thead>\n",
       "  <tbody>\n",
       "    <tr>\n",
       "      <th>0</th>\n",
       "      <td>LINC00313</td>\n",
       "      <td>lncRNA</td>\n",
       "    </tr>\n",
       "    <tr>\n",
       "      <th>1</th>\n",
       "      <td>FAM83H-AS1</td>\n",
       "      <td>lncRNA</td>\n",
       "    </tr>\n",
       "    <tr>\n",
       "      <th>2</th>\n",
       "      <td>NEAT1</td>\n",
       "      <td>lncRNA</td>\n",
       "    </tr>\n",
       "    <tr>\n",
       "      <th>3</th>\n",
       "      <td>ZFPM2-AS1</td>\n",
       "      <td>lncRNA</td>\n",
       "    </tr>\n",
       "    <tr>\n",
       "      <th>4</th>\n",
       "      <td>SNHG1</td>\n",
       "      <td>lncRNA</td>\n",
       "    </tr>\n",
       "  </tbody>\n",
       "</table>\n",
       "</div>"
      ],
      "text/plain": [
       "    Regulator RegulatorType\n",
       "0   LINC00313        lncRNA\n",
       "1  FAM83H-AS1        lncRNA\n",
       "2       NEAT1        lncRNA\n",
       "3   ZFPM2-AS1        lncRNA\n",
       "4       SNHG1        lncRNA"
      ]
     },
     "execution_count": 9,
     "metadata": {},
     "output_type": "execute_result"
    }
   ],
   "source": [
    "regulator2type = df[[\"Regulator\",\"RegulatorType\"]].drop_duplicates(ignore_index=True)\n",
    "regulator2type.head()"
   ]
  },
  {
   "cell_type": "markdown",
   "id": "ae757f6c",
   "metadata": {},
   "source": [
    "store mappings"
   ]
  },
  {
   "cell_type": "code",
   "execution_count": 10,
   "id": "854ef536",
   "metadata": {},
   "outputs": [],
   "source": [
    "target2type.to_csv(\"data/target2type.tsv\", sep=\"\\t\", index=False)\n",
    "regulator2type.to_csv(\"data/regulator2type.tsv\", sep=\"\\t\", index=False)"
   ]
  }
 ],
 "metadata": {
  "kernelspec": {
   "display_name": "Python 3 (ipykernel)",
   "language": "python",
   "name": "python3"
  },
  "language_info": {
   "codemirror_mode": {
    "name": "ipython",
    "version": 3
   },
   "file_extension": ".py",
   "mimetype": "text/x-python",
   "name": "python",
   "nbconvert_exporter": "python",
   "pygments_lexer": "ipython3",
   "version": "3.10.11"
  }
 },
 "nbformat": 4,
 "nbformat_minor": 5
}
