{
 "cells": [
  {
   "cell_type": "markdown",
   "id": "698d0803",
   "metadata": {},
   "source": [
    "This notebook contains code related to downloading the dataset, and converting it into a list of tuples $(h,r,t)$ (corresponding to head, relation, tail). The list is stored in `data/dataset.tsv`. Next to it, we store lookup tables for the types of targets and regulators. (`data/target2type.csv` and `data/regulator2type.csv` respectively.)"
   ]
  },
  {
   "cell_type": "code",
   "execution_count": null,
   "id": "744c5093",
   "metadata": {},
   "outputs": [],
   "source": [
    "!pip install gffutils"
   ]
  },
  {
   "cell_type": "code",
   "execution_count": 138,
   "id": "81dd2574",
   "metadata": {},
   "outputs": [],
   "source": [
    "import os\n",
    "from dataset import load_lnctard, df2nx\n",
    "import pandas as pd\n",
    "import gffutils\n",
    "from tqdm import tqdm\n",
    "import ast"
   ]
  },
  {
   "cell_type": "markdown",
   "id": "e2b069ac",
   "metadata": {},
   "source": [
    "### 🛒  Download and load dataset"
   ]
  },
  {
   "cell_type": "code",
   "execution_count": 2,
   "id": "4eed6b75",
   "metadata": {},
   "outputs": [],
   "source": [
    "!mkdir -p data\n",
    "!wget https://lnctard.bio-database.com/downloadfile/lnctard2.0.zip -qO- | zcat > data/lnctard2.0.txt"
   ]
  },
  {
   "cell_type": "markdown",
   "id": "887164c8",
   "metadata": {},
   "source": [
    "load raw dataset, for some reason `utf-8` does not work for decoding, but `latin-1` seems to work"
   ]
  },
  {
   "cell_type": "code",
   "execution_count": 170,
   "id": "09264f0f",
   "metadata": {},
   "outputs": [],
   "source": [
    "df = load_lnctard()"
   ]
  },
  {
   "cell_type": "code",
   "execution_count": 3,
   "id": "5f60b937",
   "metadata": {},
   "outputs": [
    {
     "data": {
      "text/html": [
       "<div>\n",
       "<style scoped>\n",
       "    .dataframe tbody tr th:only-of-type {\n",
       "        vertical-align: middle;\n",
       "    }\n",
       "\n",
       "    .dataframe tbody tr th {\n",
       "        vertical-align: top;\n",
       "    }\n",
       "\n",
       "    .dataframe thead th {\n",
       "        text-align: right;\n",
       "    }\n",
       "</style>\n",
       "<table border=\"1\" class=\"dataframe\">\n",
       "  <thead>\n",
       "    <tr style=\"text-align: right;\">\n",
       "      <th></th>\n",
       "      <th>Regulator</th>\n",
       "      <th>Target</th>\n",
       "      <th>SearchregulatoryMechanism</th>\n",
       "      <th>RegulatorType</th>\n",
       "      <th>TargetType</th>\n",
       "    </tr>\n",
       "  </thead>\n",
       "  <tbody>\n",
       "    <tr>\n",
       "      <th>0</th>\n",
       "      <td>LINC00313</td>\n",
       "      <td>miR-4429</td>\n",
       "      <td>ceRNA or sponge</td>\n",
       "      <td>lncRNA</td>\n",
       "      <td>miRNA</td>\n",
       "    </tr>\n",
       "    <tr>\n",
       "      <th>1</th>\n",
       "      <td>FAM83H-AS1</td>\n",
       "      <td>CDKN1A</td>\n",
       "      <td>epigenetic regulation</td>\n",
       "      <td>lncRNA</td>\n",
       "      <td>PCG</td>\n",
       "    </tr>\n",
       "    <tr>\n",
       "      <th>2</th>\n",
       "      <td>NEAT1</td>\n",
       "      <td>TGFB1</td>\n",
       "      <td>ceRNA or sponge</td>\n",
       "      <td>lncRNA</td>\n",
       "      <td>PCG</td>\n",
       "    </tr>\n",
       "    <tr>\n",
       "      <th>3</th>\n",
       "      <td>NEAT1</td>\n",
       "      <td>ZEB1</td>\n",
       "      <td>ceRNA or sponge</td>\n",
       "      <td>lncRNA</td>\n",
       "      <td>TF</td>\n",
       "    </tr>\n",
       "    <tr>\n",
       "      <th>4</th>\n",
       "      <td>ZFPM2-AS1</td>\n",
       "      <td>MIF</td>\n",
       "      <td>interact with protein</td>\n",
       "      <td>lncRNA</td>\n",
       "      <td>PCG</td>\n",
       "    </tr>\n",
       "  </tbody>\n",
       "</table>\n",
       "</div>"
      ],
      "text/plain": [
       "    Regulator    Target SearchregulatoryMechanism RegulatorType TargetType\n",
       "0   LINC00313  miR-4429           ceRNA or sponge        lncRNA      miRNA\n",
       "1  FAM83H-AS1    CDKN1A     epigenetic regulation        lncRNA        PCG\n",
       "2       NEAT1     TGFB1           ceRNA or sponge        lncRNA        PCG\n",
       "3       NEAT1      ZEB1           ceRNA or sponge        lncRNA         TF\n",
       "4   ZFPM2-AS1       MIF     interact with protein        lncRNA        PCG"
      ]
     },
     "execution_count": 3,
     "metadata": {},
     "output_type": "execute_result"
    }
   ],
   "source": [
    "df.head()"
   ]
  },
  {
   "cell_type": "markdown",
   "id": "4be9fec6",
   "metadata": {},
   "source": [
    "extract largest graph connection component"
   ]
  },
  {
   "cell_type": "code",
   "execution_count": 5,
   "id": "c35c86da",
   "metadata": {},
   "outputs": [],
   "source": [
    "largest_cc = df2nx(\n",
    "  df, head=\"Regulator\", tail=\"Target\",\n",
    "  relation=\"SearchregulatoryMechanism\",\n",
    "  cc_mode=\"largest\",\n",
    ")"
   ]
  },
  {
   "cell_type": "markdown",
   "id": "0e7979e0",
   "metadata": {},
   "source": [
    "### 🛍️ Extract tuples and store dataset"
   ]
  },
  {
   "cell_type": "code",
   "execution_count": 6,
   "id": "2a51f7f0",
   "metadata": {},
   "outputs": [
    {
     "name": "stdout",
     "output_type": "stream",
     "text": [
      "gathered 6773 tuples\n"
     ]
    },
    {
     "data": {
      "text/html": [
       "<div>\n",
       "<style scoped>\n",
       "    .dataframe tbody tr th:only-of-type {\n",
       "        vertical-align: middle;\n",
       "    }\n",
       "\n",
       "    .dataframe tbody tr th {\n",
       "        vertical-align: top;\n",
       "    }\n",
       "\n",
       "    .dataframe thead th {\n",
       "        text-align: right;\n",
       "    }\n",
       "</style>\n",
       "<table border=\"1\" class=\"dataframe\">\n",
       "  <thead>\n",
       "    <tr style=\"text-align: right;\">\n",
       "      <th></th>\n",
       "      <th>head</th>\n",
       "      <th>relation</th>\n",
       "      <th>tail</th>\n",
       "    </tr>\n",
       "  </thead>\n",
       "  <tbody>\n",
       "    <tr>\n",
       "      <th>0</th>\n",
       "      <td>LINC00313</td>\n",
       "      <td>ceRNA or sponge</td>\n",
       "      <td>miR-4429</td>\n",
       "    </tr>\n",
       "    <tr>\n",
       "      <th>1</th>\n",
       "      <td>LINC00313</td>\n",
       "      <td>transcriptional regulation</td>\n",
       "      <td>SOX2</td>\n",
       "    </tr>\n",
       "    <tr>\n",
       "      <th>2</th>\n",
       "      <td>LINC00313</td>\n",
       "      <td>ceRNA or sponge</td>\n",
       "      <td>MIR422A</td>\n",
       "    </tr>\n",
       "    <tr>\n",
       "      <th>3</th>\n",
       "      <td>LINC00313</td>\n",
       "      <td>ceRNA or sponge</td>\n",
       "      <td>FOSL2</td>\n",
       "    </tr>\n",
       "    <tr>\n",
       "      <th>4</th>\n",
       "      <td>LINC00313</td>\n",
       "      <td>epigenetic regulation</td>\n",
       "      <td>ALX4</td>\n",
       "    </tr>\n",
       "  </tbody>\n",
       "</table>\n",
       "</div>"
      ],
      "text/plain": [
       "        head                    relation      tail\n",
       "0  LINC00313             ceRNA or sponge  miR-4429\n",
       "1  LINC00313  transcriptional regulation      SOX2\n",
       "2  LINC00313             ceRNA or sponge   MIR422A\n",
       "3  LINC00313             ceRNA or sponge     FOSL2\n",
       "4  LINC00313       epigenetic regulation      ALX4"
      ]
     },
     "execution_count": 6,
     "metadata": {},
     "output_type": "execute_result"
    }
   ],
   "source": [
    "# create tuples (h,r,t)\n",
    "edgedata = largest_cc.edges.data(\"SearchregulatoryMechanism\")\n",
    "tuples = [(h,r,t) for h,t,r in edgedata] # swizzle t and r\n",
    "tuples = pd.DataFrame(tuples, columns=[\"head\",\"relation\",\"tail\"])\n",
    "print(\"gathered\",len(tuples),\"tuples\")\n",
    "tuples.head()"
   ]
  },
  {
   "cell_type": "code",
   "execution_count": 7,
   "id": "d3c67441",
   "metadata": {},
   "outputs": [],
   "source": [
    "tuples.to_csv(\"data/dataset.tsv\", sep=\"\\t\", index=False)"
   ]
  },
  {
   "cell_type": "markdown",
   "id": "2f61e50c",
   "metadata": {},
   "source": [
    "### 🛍️ Extract and store node types from Gencode"
   ]
  },
  {
   "cell_type": "code",
   "execution_count": null,
   "id": "5f0c76fd",
   "metadata": {},
   "outputs": [],
   "source": [
    "!wget https://ftp.ebi.ac.uk/pub/databases/gencode/Gencode_human/release_43/gencode.v43.annotation.gff3.gz -qO- | gunzip > data/gencode.v43.annotation.gff3"
   ]
  },
  {
   "cell_type": "code",
   "execution_count": 9,
   "id": "cedced71",
   "metadata": {},
   "outputs": [
    {
     "name": "stdout",
     "output_type": "stream",
     "text": [
      "loading existing database\n"
     ]
    }
   ],
   "source": [
    "# stolen from http://daler.github.io/gffutils/#create-the-database\n",
    "db_path = \"data/human.db\"\n",
    "if not os.path.exists(db_path):\n",
    "  print(\"database does not exist, creating new one.\")\n",
    "  db = gffutils.create_db(\n",
    "    \"data/gencode.v43.annotation.gff3\",\n",
    "    dbfn=db_path,\n",
    "    merge_strategy='warning', # TODO: we may want to do merge here\n",
    "    verbose=True,\n",
    "  )\n",
    "else:\n",
    "  print(\"loading existing database\")\n",
    "  db = gffutils.FeatureDB(db_path)"
   ]
  },
  {
   "cell_type": "code",
   "execution_count": 155,
   "id": "801ac700",
   "metadata": {},
   "outputs": [
    {
     "name": "stderr",
     "output_type": "stream",
     "text": [
      "100%|███████████████████████████████████████████████████████| 2448999/2448999 [03:30<00:00, 11627.02it/s]\n"
     ]
    }
   ],
   "source": [
    "# extract gene names and types from database\n",
    "gene_names, gene_types = [], []\n",
    "for feat in tqdm(\n",
    "  db.execute(\"select f.attributes from features f\"),\n",
    "  total=next(db.execute(\"select count(*) as c from features\"))[\"c\"],\n",
    "):\n",
    "  attribs = ast.literal_eval(feat[\"attributes\"])\n",
    "  gene_names += attribs[\"gene_name\"]\n",
    "  gene_types += attribs[\"gene_type\"]"
   ]
  },
  {
   "cell_type": "code",
   "execution_count": 168,
   "id": "8804307e",
   "metadata": {},
   "outputs": [],
   "source": [
    "gene_df = pd.DataFrame({\"gene_name\": gene_names, \"gene_type\": gene_types}).drop_duplicates(ignore_index=True)"
   ]
  },
  {
   "cell_type": "code",
   "execution_count": 169,
   "id": "cd1c7381",
   "metadata": {},
   "outputs": [
    {
     "data": {
      "text/html": [
       "<div>\n",
       "<style scoped>\n",
       "    .dataframe tbody tr th:only-of-type {\n",
       "        vertical-align: middle;\n",
       "    }\n",
       "\n",
       "    .dataframe tbody tr th {\n",
       "        vertical-align: top;\n",
       "    }\n",
       "\n",
       "    .dataframe thead th {\n",
       "        text-align: right;\n",
       "    }\n",
       "</style>\n",
       "<table border=\"1\" class=\"dataframe\">\n",
       "  <thead>\n",
       "    <tr style=\"text-align: right;\">\n",
       "      <th></th>\n",
       "      <th>gene_name</th>\n",
       "      <th>gene_type</th>\n",
       "    </tr>\n",
       "  </thead>\n",
       "  <tbody>\n",
       "    <tr>\n",
       "      <th>0</th>\n",
       "      <td>DDX11L2</td>\n",
       "      <td>lncRNA</td>\n",
       "    </tr>\n",
       "    <tr>\n",
       "      <th>1</th>\n",
       "      <td>DDX11L1</td>\n",
       "      <td>transcribed_unprocessed_pseudogene</td>\n",
       "    </tr>\n",
       "    <tr>\n",
       "      <th>2</th>\n",
       "      <td>WASH7P</td>\n",
       "      <td>unprocessed_pseudogene</td>\n",
       "    </tr>\n",
       "    <tr>\n",
       "      <th>3</th>\n",
       "      <td>MIR6859-1</td>\n",
       "      <td>miRNA</td>\n",
       "    </tr>\n",
       "    <tr>\n",
       "      <th>4</th>\n",
       "      <td>MIR1302-2HG</td>\n",
       "      <td>lncRNA</td>\n",
       "    </tr>\n",
       "  </tbody>\n",
       "</table>\n",
       "</div>"
      ],
      "text/plain": [
       "     gene_name                           gene_type\n",
       "0      DDX11L2                              lncRNA\n",
       "1      DDX11L1  transcribed_unprocessed_pseudogene\n",
       "2       WASH7P              unprocessed_pseudogene\n",
       "3    MIR6859-1                               miRNA\n",
       "4  MIR1302-2HG                              lncRNA"
      ]
     },
     "execution_count": 169,
     "metadata": {},
     "output_type": "execute_result"
    }
   ],
   "source": [
    "gene_df.head()"
   ]
  },
  {
   "cell_type": "code",
   "execution_count": 187,
   "id": "cf38be67",
   "metadata": {},
   "outputs": [
    {
     "data": {
      "text/html": [
       "<div>\n",
       "<style scoped>\n",
       "    .dataframe tbody tr th:only-of-type {\n",
       "        vertical-align: middle;\n",
       "    }\n",
       "\n",
       "    .dataframe tbody tr th {\n",
       "        vertical-align: top;\n",
       "    }\n",
       "\n",
       "    .dataframe thead th {\n",
       "        text-align: right;\n",
       "    }\n",
       "</style>\n",
       "<table border=\"1\" class=\"dataframe\">\n",
       "  <thead>\n",
       "    <tr style=\"text-align: right;\">\n",
       "      <th></th>\n",
       "      <th>Target</th>\n",
       "      <th>TargetType</th>\n",
       "    </tr>\n",
       "  </thead>\n",
       "  <tbody>\n",
       "    <tr>\n",
       "      <th>0</th>\n",
       "      <td>LINC00115</td>\n",
       "      <td>lncRNA</td>\n",
       "    </tr>\n",
       "    <tr>\n",
       "      <th>1</th>\n",
       "      <td>HES5</td>\n",
       "      <td>protein_coding</td>\n",
       "    </tr>\n",
       "    <tr>\n",
       "      <th>2</th>\n",
       "      <td>PRDM16</td>\n",
       "      <td>protein_coding</td>\n",
       "    </tr>\n",
       "    <tr>\n",
       "      <th>3</th>\n",
       "      <td>TP73</td>\n",
       "      <td>protein_coding</td>\n",
       "    </tr>\n",
       "    <tr>\n",
       "      <th>4</th>\n",
       "      <td>TP73-AS1</td>\n",
       "      <td>transcribed_unitary_pseudogene</td>\n",
       "    </tr>\n",
       "  </tbody>\n",
       "</table>\n",
       "</div>"
      ],
      "text/plain": [
       "      Target                      TargetType\n",
       "0  LINC00115                          lncRNA\n",
       "1       HES5                  protein_coding\n",
       "2     PRDM16                  protein_coding\n",
       "3       TP73                  protein_coding\n",
       "4   TP73-AS1  transcribed_unitary_pseudogene"
      ]
     },
     "execution_count": 187,
     "metadata": {},
     "output_type": "execute_result"
    }
   ],
   "source": [
    "target2type = (\n",
    "  gene_df[gene_df[\"gene_name\"].isin(df[\"Target\"])]\n",
    "    .reset_index(drop=True)\n",
    "    .rename(columns={\"gene_name\": \"Target\", \"gene_type\": \"TargetType\"})\n",
    ")\n",
    "target2type.head()"
   ]
  },
  {
   "cell_type": "code",
   "execution_count": 188,
   "id": "9b89e9a9",
   "metadata": {},
   "outputs": [
    {
     "data": {
      "text/html": [
       "<div>\n",
       "<style scoped>\n",
       "    .dataframe tbody tr th:only-of-type {\n",
       "        vertical-align: middle;\n",
       "    }\n",
       "\n",
       "    .dataframe tbody tr th {\n",
       "        vertical-align: top;\n",
       "    }\n",
       "\n",
       "    .dataframe thead th {\n",
       "        text-align: right;\n",
       "    }\n",
       "</style>\n",
       "<table border=\"1\" class=\"dataframe\">\n",
       "  <thead>\n",
       "    <tr style=\"text-align: right;\">\n",
       "      <th></th>\n",
       "      <th>Regulator</th>\n",
       "      <th>RegulatorType</th>\n",
       "    </tr>\n",
       "  </thead>\n",
       "  <tbody>\n",
       "    <tr>\n",
       "      <th>0</th>\n",
       "      <td>LINC00115</td>\n",
       "      <td>lncRNA</td>\n",
       "    </tr>\n",
       "    <tr>\n",
       "      <th>1</th>\n",
       "      <td>LINC01128</td>\n",
       "      <td>lncRNA</td>\n",
       "    </tr>\n",
       "    <tr>\n",
       "      <th>2</th>\n",
       "      <td>LINC01342</td>\n",
       "      <td>lncRNA</td>\n",
       "    </tr>\n",
       "    <tr>\n",
       "      <th>3</th>\n",
       "      <td>PRKCZ-AS1</td>\n",
       "      <td>lncRNA</td>\n",
       "    </tr>\n",
       "    <tr>\n",
       "      <th>4</th>\n",
       "      <td>PRDM16-DT</td>\n",
       "      <td>lncRNA</td>\n",
       "    </tr>\n",
       "  </tbody>\n",
       "</table>\n",
       "</div>"
      ],
      "text/plain": [
       "   Regulator RegulatorType\n",
       "0  LINC00115        lncRNA\n",
       "1  LINC01128        lncRNA\n",
       "2  LINC01342        lncRNA\n",
       "3  PRKCZ-AS1        lncRNA\n",
       "4  PRDM16-DT        lncRNA"
      ]
     },
     "execution_count": 188,
     "metadata": {},
     "output_type": "execute_result"
    }
   ],
   "source": [
    "regulator2type = (\n",
    "  gene_df[gene_df[\"gene_name\"].isin(df[\"Regulator\"])]\n",
    "    .reset_index(drop=True)\n",
    "    .rename(columns={\"gene_name\": \"Regulator\", \"gene_type\": \"RegulatorType\"})\n",
    ")\n",
    "regulator2type.head()"
   ]
  },
  {
   "cell_type": "code",
   "execution_count": 189,
   "id": "38dea7d3",
   "metadata": {},
   "outputs": [],
   "source": [
    "target2type.to_csv(\"data/target2type.tsv\", sep=\"\\t\", index=False)\n",
    "regulator2type.to_csv(\"data/regulator2type.tsv\", sep=\"\\t\", index=False)"
   ]
  },
  {
   "cell_type": "markdown",
   "id": "8f7c9a24",
   "metadata": {},
   "source": [
    "### 🧘 Combine target2type and regulator2type relations"
   ]
  },
  {
   "cell_type": "code",
   "execution_count": 197,
   "id": "2bcaabd1",
   "metadata": {},
   "outputs": [
    {
     "data": {
      "text/html": [
       "<div>\n",
       "<style scoped>\n",
       "    .dataframe tbody tr th:only-of-type {\n",
       "        vertical-align: middle;\n",
       "    }\n",
       "\n",
       "    .dataframe tbody tr th {\n",
       "        vertical-align: top;\n",
       "    }\n",
       "\n",
       "    .dataframe thead th {\n",
       "        text-align: right;\n",
       "    }\n",
       "</style>\n",
       "<table border=\"1\" class=\"dataframe\">\n",
       "  <thead>\n",
       "    <tr style=\"text-align: right;\">\n",
       "      <th></th>\n",
       "      <th>Entity</th>\n",
       "      <th>EntityType</th>\n",
       "    </tr>\n",
       "  </thead>\n",
       "  <tbody>\n",
       "    <tr>\n",
       "      <th>0</th>\n",
       "      <td>LINC00115</td>\n",
       "      <td>lncRNA</td>\n",
       "    </tr>\n",
       "    <tr>\n",
       "      <th>1</th>\n",
       "      <td>LINC01128</td>\n",
       "      <td>lncRNA</td>\n",
       "    </tr>\n",
       "    <tr>\n",
       "      <th>2</th>\n",
       "      <td>LINC01342</td>\n",
       "      <td>lncRNA</td>\n",
       "    </tr>\n",
       "    <tr>\n",
       "      <th>3</th>\n",
       "      <td>PRKCZ-AS1</td>\n",
       "      <td>lncRNA</td>\n",
       "    </tr>\n",
       "    <tr>\n",
       "      <th>4</th>\n",
       "      <td>PRDM16-DT</td>\n",
       "      <td>lncRNA</td>\n",
       "    </tr>\n",
       "  </tbody>\n",
       "</table>\n",
       "</div>"
      ],
      "text/plain": [
       "      Entity EntityType\n",
       "0  LINC00115     lncRNA\n",
       "1  LINC01128     lncRNA\n",
       "2  LINC01342     lncRNA\n",
       "3  PRKCZ-AS1     lncRNA\n",
       "4  PRDM16-DT     lncRNA"
      ]
     },
     "execution_count": 197,
     "metadata": {},
     "output_type": "execute_result"
    }
   ],
   "source": [
    "entity2type = pd.concat([\n",
    "  regulator2type.rename(columns={\"Regulator\":\"Entity\", \"RegulatorType\":\"EntityType\"}),\n",
    "  target2type.rename(columns={\"Target\":\"Entity\", \"TargetType\":\"EntityType\"}),\n",
    "]).drop_duplicates(ignore_index=True)\n",
    "entity2type.head()"
   ]
  },
  {
   "cell_type": "code",
   "execution_count": 198,
   "id": "8428ae5b",
   "metadata": {},
   "outputs": [],
   "source": [
    "entity2type.to_csv(\"data/entity2type.tsv\", sep=\"\\t\", index=False)"
   ]
  },
  {
   "cell_type": "markdown",
   "id": "c098fbae",
   "metadata": {},
   "source": [
    "### Create a NBFNet compatible entity mapping"
   ]
  },
  {
   "cell_type": "code",
   "execution_count": 204,
   "id": "30a75cc6",
   "metadata": {},
   "outputs": [
    {
     "data": {
      "text/html": [
       "<div>\n",
       "<style scoped>\n",
       "    .dataframe tbody tr th:only-of-type {\n",
       "        vertical-align: middle;\n",
       "    }\n",
       "\n",
       "    .dataframe tbody tr th {\n",
       "        vertical-align: top;\n",
       "    }\n",
       "\n",
       "    .dataframe thead th {\n",
       "        text-align: right;\n",
       "    }\n",
       "</style>\n",
       "<table border=\"1\" class=\"dataframe\">\n",
       "  <thead>\n",
       "    <tr style=\"text-align: right;\">\n",
       "      <th></th>\n",
       "      <th>Entity</th>\n",
       "      <th>EntityType</th>\n",
       "    </tr>\n",
       "  </thead>\n",
       "  <tbody>\n",
       "    <tr>\n",
       "      <th>0</th>\n",
       "      <td>LINC00115</td>\n",
       "      <td>1</td>\n",
       "    </tr>\n",
       "    <tr>\n",
       "      <th>1</th>\n",
       "      <td>LINC01128</td>\n",
       "      <td>1</td>\n",
       "    </tr>\n",
       "    <tr>\n",
       "      <th>2</th>\n",
       "      <td>LINC01342</td>\n",
       "      <td>1</td>\n",
       "    </tr>\n",
       "    <tr>\n",
       "      <th>3</th>\n",
       "      <td>PRKCZ-AS1</td>\n",
       "      <td>1</td>\n",
       "    </tr>\n",
       "    <tr>\n",
       "      <th>4</th>\n",
       "      <td>PRDM16-DT</td>\n",
       "      <td>1</td>\n",
       "    </tr>\n",
       "  </tbody>\n",
       "</table>\n",
       "</div>"
      ],
      "text/plain": [
       "      Entity  EntityType\n",
       "0  LINC00115           1\n",
       "1  LINC01128           1\n",
       "2  LINC01342           1\n",
       "3  PRKCZ-AS1           1\n",
       "4  PRDM16-DT           1"
      ]
     },
     "execution_count": 204,
     "metadata": {},
     "output_type": "execute_result"
    }
   ],
   "source": [
    "entity2typeidx = entity2type.copy()\n",
    "entity2typeidx[\"EntityType\"] = entity2typeidx[\"EntityType\"].astype(\"category\")\n",
    "entity2typeidx[\"EntityType\"] = entity2typeidx[\"EntityType\"].cat.codes\n",
    "entity2typeidx.head()"
   ]
  },
  {
   "cell_type": "code",
   "execution_count": 207,
   "id": "caa02ec4",
   "metadata": {},
   "outputs": [],
   "source": [
    "entity2typeidx.to_csv(\"data/entity2typeidx.tsv\", sep=\" \", index=False, header=False)"
   ]
  },
  {
   "cell_type": "markdown",
   "id": "77d8d02e",
   "metadata": {},
   "source": [
    "### Hack entity types"
   ]
  },
  {
   "cell_type": "code",
   "execution_count": 210,
   "id": "1aada663",
   "metadata": {},
   "outputs": [],
   "source": [
    "entity2typeidx = pd.DataFrame({\n",
    "  \"Entity\": pd.concat([df[\"Target\"],df[\"Regulator\"]]).drop_duplicates(ignore_index=True),\n",
    "  \"EntityType\": 0,\n",
    "})"
   ]
  },
  {
   "cell_type": "code",
   "execution_count": 211,
   "id": "5ba214ea",
   "metadata": {},
   "outputs": [
    {
     "data": {
      "text/html": [
       "<div>\n",
       "<style scoped>\n",
       "    .dataframe tbody tr th:only-of-type {\n",
       "        vertical-align: middle;\n",
       "    }\n",
       "\n",
       "    .dataframe tbody tr th {\n",
       "        vertical-align: top;\n",
       "    }\n",
       "\n",
       "    .dataframe thead th {\n",
       "        text-align: right;\n",
       "    }\n",
       "</style>\n",
       "<table border=\"1\" class=\"dataframe\">\n",
       "  <thead>\n",
       "    <tr style=\"text-align: right;\">\n",
       "      <th></th>\n",
       "      <th>Entity</th>\n",
       "      <th>EntityType</th>\n",
       "    </tr>\n",
       "  </thead>\n",
       "  <tbody>\n",
       "    <tr>\n",
       "      <th>0</th>\n",
       "      <td>miR-4429</td>\n",
       "      <td>0</td>\n",
       "    </tr>\n",
       "    <tr>\n",
       "      <th>1</th>\n",
       "      <td>CDKN1A</td>\n",
       "      <td>0</td>\n",
       "    </tr>\n",
       "    <tr>\n",
       "      <th>2</th>\n",
       "      <td>TGFB1</td>\n",
       "      <td>0</td>\n",
       "    </tr>\n",
       "    <tr>\n",
       "      <th>3</th>\n",
       "      <td>ZEB1</td>\n",
       "      <td>0</td>\n",
       "    </tr>\n",
       "    <tr>\n",
       "      <th>4</th>\n",
       "      <td>MIF</td>\n",
       "      <td>0</td>\n",
       "    </tr>\n",
       "    <tr>\n",
       "      <th>...</th>\n",
       "      <td>...</td>\n",
       "      <td>...</td>\n",
       "    </tr>\n",
       "    <tr>\n",
       "      <th>3903</th>\n",
       "      <td>LAMTOR5-AS1</td>\n",
       "      <td>0</td>\n",
       "    </tr>\n",
       "    <tr>\n",
       "      <th>3904</th>\n",
       "      <td>HSPA7</td>\n",
       "      <td>0</td>\n",
       "    </tr>\n",
       "    <tr>\n",
       "      <th>3905</th>\n",
       "      <td>PKMYT1AR</td>\n",
       "      <td>0</td>\n",
       "    </tr>\n",
       "    <tr>\n",
       "      <th>3906</th>\n",
       "      <td>RP5-857K21.7</td>\n",
       "      <td>0</td>\n",
       "    </tr>\n",
       "    <tr>\n",
       "      <th>3907</th>\n",
       "      <td>circ-PSEN1</td>\n",
       "      <td>0</td>\n",
       "    </tr>\n",
       "  </tbody>\n",
       "</table>\n",
       "<p>3908 rows × 2 columns</p>\n",
       "</div>"
      ],
      "text/plain": [
       "            Entity  EntityType\n",
       "0         miR-4429           0\n",
       "1           CDKN1A           0\n",
       "2            TGFB1           0\n",
       "3             ZEB1           0\n",
       "4              MIF           0\n",
       "...            ...         ...\n",
       "3903   LAMTOR5-AS1           0\n",
       "3904         HSPA7           0\n",
       "3905      PKMYT1AR           0\n",
       "3906  RP5-857K21.7           0\n",
       "3907    circ-PSEN1           0\n",
       "\n",
       "[3908 rows x 2 columns]"
      ]
     },
     "execution_count": 211,
     "metadata": {},
     "output_type": "execute_result"
    }
   ],
   "source": [
    "entity2typeidx"
   ]
  },
  {
   "cell_type": "code",
   "execution_count": 214,
   "id": "60fcfb51",
   "metadata": {},
   "outputs": [],
   "source": [
    "entity2typeidx.to_csv(\"data/entity2typeidx.tsv\", sep=\"\\t\", index=False, header=False)"
   ]
  },
  {
   "cell_type": "code",
   "execution_count": null,
   "id": "43789764",
   "metadata": {},
   "outputs": [],
   "source": []
  }
 ],
 "metadata": {
  "kernelspec": {
   "display_name": "Python 3 (ipykernel)",
   "language": "python",
   "name": "python3"
  },
  "language_info": {
   "codemirror_mode": {
    "name": "ipython",
    "version": 3
   },
   "file_extension": ".py",
   "mimetype": "text/x-python",
   "name": "python",
   "nbconvert_exporter": "python",
   "pygments_lexer": "ipython3",
   "version": "3.10.11"
  }
 },
 "nbformat": 4,
 "nbformat_minor": 5
}
