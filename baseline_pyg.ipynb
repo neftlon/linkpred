{
 "cells": [
  {
   "cell_type": "code",
   "execution_count": 1,
   "id": "1b263161",
   "metadata": {},
   "outputs": [],
   "source": [
    "import torch\n",
    "import torch.optim as optim\n",
    "from torch_geometric.data import InMemoryDataset\n",
    "from dataset import load_split\n",
    "import pandas as pd\n",
    "from torch_geometric.nn import TransE\n",
    "from torch_geometric.nn.kge.loader import KGTripletLoader\n",
    "from dataset import T"
   ]
  },
  {
   "cell_type": "code",
   "execution_count": 2,
   "id": "40035c21",
   "metadata": {},
   "outputs": [
    {
     "data": {
      "text/plain": [
       "'using cuda'"
      ]
     },
     "execution_count": 2,
     "metadata": {},
     "output_type": "execute_result"
    }
   ],
   "source": [
    "device = \"cuda\" if torch.cuda.is_available() else \"cpu\"; \"using \" + device"
   ]
  },
  {
   "cell_type": "code",
   "execution_count": 3,
   "id": "a6959693",
   "metadata": {},
   "outputs": [],
   "source": [
    "# # from torch_geometric.data import InMemoryDataset\n",
    "# # import pandas as pd\n",
    "\n",
    "# class PygLncTarD(InMemoryDataset):\n",
    "#   \"\"\"\n",
    "#   pytorch geometric compatible version of LncTarD dataset.\n",
    "  \n",
    "#   NB: The class is not (yet) capable of downloading the dataset itself.\n",
    "#     Instead, it expects the dataset to be pre-split and put inside the \n",
    "#     `data/` subdirectory such that it can be loaded with `load_split`.\n",
    "#   \"\"\"\n",
    "  \n",
    "#   def __init__(self, split_name, transform=None, device=None, verbose=1):\n",
    "#     super().__init__(\".\", transform)\n",
    "    \n",
    "#     # load data\n",
    "#     self.split_name = split_name\n",
    "#     self.df = load_split(split_name)\n",
    "#     # use full_df to obtain mappings, to ensure that all possible heads, \n",
    "#     # targets, and relations are available.\n",
    "#     self.full_df = load_split(\"full\")\n",
    "    \n",
    "#     # load mappings for one hot encoding from original dataset, such that\n",
    "#     # all possible entities (=heads or tails) and relations are available.\n",
    "#     # NB: pyg does not distinguish between head and tail entities, therefore\n",
    "#     # they are concatenated to a large list of entities here\n",
    "#     full_df = load_split(\"full\")\n",
    "#     entities = pd.concat([full_df[\"head\"], full_df[\"tail\"]], ignore_index=True).drop_duplicates(ignore_index=True)\n",
    "#     self.ent2idx = pd.get_dummies(entities,dtype=float).idxmax()\n",
    "#     self.rel2idx = pd.get_dummies(full_df[\"relation\"].drop_duplicates(ignore_index=True),dtype=float).idxmax()\n",
    "#     self.idx2ent, self.idx2rel = self.ent2idx.T, self.rel2idx.T\n",
    "    \n",
    "#     # NB: this is not a very efficient way of obtaining the dataset, but it\n",
    "#     # is sufficient for a small dataset like LncTarD.\n",
    "#     self.tuples = torch.empty((len(self.df), 3), dtype=torch.long, device=device)\n",
    "#     num_failed = 0\n",
    "#     for tup in self.df.itertuples(index=True):\n",
    "#       # TODO: figure out how we can ignore the weird string encodings\n",
    "#       try:\n",
    "#         h, r, t = self.ent2idx[tup.head], self.rel2idx[tup.relation], self.ent2idx[tup.tail]\n",
    "#         assert tup.Index < len(self.tuples), \"tuple index out of range\"\n",
    "#         self.tuples[tup.Index] = torch.tensor([h,r,t])\n",
    "#       except KeyError:\n",
    "#         num_failed += 1\n",
    "#     if verbose:\n",
    "#       print(\"cannot load %d/%d tuple(s) from %s because of weird string encoding\" % \n",
    "#             (num_failed, num_failed + len(self.tuples), split_name))\n",
    "\n",
    "#   def len(self):\n",
    "#     return len(self.tuples)\n",
    "  \n",
    "#   def get(self, idx):\n",
    "#     return self.tuples[idx]\n",
    "  \n",
    "#   @property\n",
    "#   def num_nodes(self):\n",
    "#     \"\"\"Return the number of node types available in this dataset.\"\"\"\n",
    "#     # NB: in https://pytorch-geometric.readthedocs.io/en/latest/_modules/torch_geometric/nn/kge/base.html#KGEModel\n",
    "#     # it looks like that this should return the # of available node TYPES.\n",
    "#     return len(self.ent2idx)\n",
    "  \n",
    "#   @property\n",
    "#   def num_edge_types(self):\n",
    "#     \"\"\"Return the number of edge types available in this dataset.\"\"\"\n",
    "#     return len(self.rel2idx)\n",
    "  \n",
    "#   @property\n",
    "#   def edge_index(self):\n",
    "#     \"\"\"Return the edge indices of this dataset, as a tensor of (h,t) tuples.\"\"\"\n",
    "#     return self.tuples[:,[0,2]]\n",
    "  \n",
    "#   @property\n",
    "#   def edge_type(self):\n",
    "#     \"\"\"Return the edge types as a tensor.\"\"\"\n",
    "#     return self.tuples[:,1]"
   ]
  },
  {
   "cell_type": "code",
   "execution_count": 4,
   "id": "624849a3",
   "metadata": {},
   "outputs": [
    {
     "name": "stdout",
     "output_type": "stream",
     "text": [
      "cannot load 18/5437 tuple(s) from train because of weird string encoding\n",
      "cannot load 1/678 tuple(s) from val because of weird string encoding\n",
      "cannot load 2/679 tuple(s) from test because of weird string encoding\n"
     ]
    }
   ],
   "source": [
    "train_data, val_data, test_data = (\n",
    "  PygLncTarD(\"train\", device=device),\n",
    "  PygLncTarD(\"val\", device=device),\n",
    "  PygLncTarD(\"test\", device=device),\n",
    ")"
   ]
  },
  {
   "cell_type": "code",
   "execution_count": 6,
   "id": "bae78c06",
   "metadata": {},
   "outputs": [],
   "source": [
    "model = TransE(\n",
    "  num_nodes=train_data.num_nodes,\n",
    "  num_relations=train_data.num_edge_types,\n",
    "  hidden_channels=50,\n",
    ").to(device)"
   ]
  },
  {
   "cell_type": "code",
   "execution_count": 7,
   "id": "4bb99197",
   "metadata": {},
   "outputs": [
    {
     "data": {
      "text/plain": [
       "TransE(3367, num_relations=7, hidden_channels=50)"
      ]
     },
     "execution_count": 7,
     "metadata": {},
     "output_type": "execute_result"
    }
   ],
   "source": [
    "model"
   ]
  },
  {
   "cell_type": "code",
   "execution_count": 8,
   "id": "c38f2cbd",
   "metadata": {},
   "outputs": [],
   "source": [
    "optimizer = optim.Adam(model.parameters(), lr=.01)"
   ]
  },
  {
   "cell_type": "code",
   "execution_count": 9,
   "id": "3b950d85",
   "metadata": {},
   "outputs": [],
   "source": [
    "loader = KGTripletLoader(\n",
    "  *train_data.tuples.T, batch_size=1000, shuffle=True,\n",
    ")"
   ]
  },
  {
   "cell_type": "code",
   "execution_count": 10,
   "id": "83ffb0d8",
   "metadata": {},
   "outputs": [],
   "source": [
    "def train():\n",
    "    model.train()\n",
    "    total_loss = total_examples = 0\n",
    "    for head_index, rel_type, tail_index in loader:\n",
    "        optimizer.zero_grad()\n",
    "        loss = model.loss(head_index, rel_type, tail_index)\n",
    "        loss.backward()\n",
    "        optimizer.step()\n",
    "        total_loss += float(loss) * head_index.numel()\n",
    "        total_examples += head_index.numel()\n",
    "    return total_loss / total_examples\n",
    "\n",
    "@torch.no_grad()\n",
    "def test(data):\n",
    "    model.eval()\n",
    "    return model.test(\n",
    "        head_index=data.edge_index[0],\n",
    "        rel_type=data.edge_type,\n",
    "        tail_index=data.edge_index[1],\n",
    "        batch_size=20000,\n",
    "        k=10,\n",
    "    )"
   ]
  },
  {
   "cell_type": "code",
   "execution_count": 11,
   "id": "60b73d89",
   "metadata": {},
   "outputs": [
    {
     "name": "stdout",
     "output_type": "stream",
     "text": [
      "Epoch: 001, Loss: 0.9849\n",
      "Epoch: 002, Loss: 0.9479\n",
      "Epoch: 003, Loss: 0.9056\n",
      "Epoch: 004, Loss: 0.8706\n",
      "Epoch: 005, Loss: 0.8375\n",
      "Epoch: 006, Loss: 0.7926\n",
      "Epoch: 007, Loss: 0.7539\n",
      "Epoch: 008, Loss: 0.7114\n",
      "Epoch: 009, Loss: 0.6622\n",
      "Epoch: 010, Loss: 0.6241\n",
      "Epoch: 011, Loss: 0.5885\n",
      "Epoch: 012, Loss: 0.5568\n",
      "Epoch: 013, Loss: 0.5395\n",
      "Epoch: 014, Loss: 0.5008\n",
      "Epoch: 015, Loss: 0.4836\n",
      "Epoch: 016, Loss: 0.4658\n",
      "Epoch: 017, Loss: 0.4456\n",
      "Epoch: 018, Loss: 0.4360\n",
      "Epoch: 019, Loss: 0.4184\n",
      "Epoch: 020, Loss: 0.4035\n",
      "Epoch: 021, Loss: 0.3956\n",
      "Epoch: 022, Loss: 0.3889\n",
      "Epoch: 023, Loss: 0.3827\n",
      "Epoch: 024, Loss: 0.3714\n",
      "Epoch: 025, Loss: 0.3627\n"
     ]
    },
    {
     "name": "stderr",
     "output_type": "stream",
     "text": [
      "100%|███████████████████████████████████████████| 2/2 [00:00<00:00, 1820.84it/s]"
     ]
    },
    {
     "name": "stdout",
     "output_type": "stream",
     "text": [
      "Epoch: 025, Val Mean Rank: 1734.00, Val Hits@10: 0.0000\n",
      "Epoch: 026, Loss: 0.3529\n",
      "Epoch: 027, Loss: 0.3493\n",
      "Epoch: 028, Loss: 0.3426\n",
      "Epoch: 029, Loss: 0.3453\n",
      "Epoch: 030, Loss: 0.3264\n",
      "Epoch: 031, Loss: 0.3248\n",
      "Epoch: 032, Loss: 0.3248\n",
      "Epoch: 033, Loss: 0.3180\n",
      "Epoch: 034, Loss: 0.3099\n",
      "Epoch: 035, Loss: 0.3105\n",
      "Epoch: 036, Loss: 0.3048\n",
      "Epoch: 037, Loss: 0.3040\n",
      "Epoch: 038, Loss: 0.3078\n",
      "Epoch: 039, Loss: 0.2941\n",
      "Epoch: 040, Loss: 0.2821\n",
      "Epoch: 041, Loss: 0.3014\n"
     ]
    },
    {
     "name": "stderr",
     "output_type": "stream",
     "text": [
      "\n"
     ]
    },
    {
     "name": "stdout",
     "output_type": "stream",
     "text": [
      "Epoch: 042, Loss: 0.2947\n",
      "Epoch: 043, Loss: 0.2905\n",
      "Epoch: 044, Loss: 0.2775\n",
      "Epoch: 045, Loss: 0.2748\n",
      "Epoch: 046, Loss: 0.2814\n",
      "Epoch: 047, Loss: 0.2753\n",
      "Epoch: 048, Loss: 0.2700\n",
      "Epoch: 049, Loss: 0.2745\n",
      "Epoch: 050, Loss: 0.2677\n"
     ]
    },
    {
     "name": "stderr",
     "output_type": "stream",
     "text": [
      "100%|███████████████████████████████████████████| 2/2 [00:00<00:00, 2623.08it/s]"
     ]
    },
    {
     "name": "stdout",
     "output_type": "stream",
     "text": [
      "Epoch: 050, Val Mean Rank: 1703.00, Val Hits@10: 0.0000\n",
      "Epoch: 051, Loss: 0.2620\n",
      "Epoch: 052, Loss: 0.2601\n",
      "Epoch: 053, Loss: 0.2587\n",
      "Epoch: 054, Loss: 0.2492\n",
      "Epoch: 055, Loss: 0.2556\n",
      "Epoch: 056, Loss: 0.2424\n",
      "Epoch: 057, Loss: 0.2511\n",
      "Epoch: 058, Loss: 0.2465\n",
      "Epoch: 059, Loss: 0.2469\n",
      "Epoch: 060, Loss: 0.2389\n",
      "Epoch: 061, Loss: 0.2516\n",
      "Epoch: 062, Loss: 0.2372\n",
      "Epoch: 063, Loss: 0.2448\n",
      "Epoch: 064, Loss: 0.2359\n",
      "Epoch: 065, Loss: 0.2355\n",
      "Epoch: 066, Loss: 0.2403\n"
     ]
    },
    {
     "name": "stderr",
     "output_type": "stream",
     "text": [
      "\n"
     ]
    },
    {
     "name": "stdout",
     "output_type": "stream",
     "text": [
      "Epoch: 067, Loss: 0.2348\n",
      "Epoch: 068, Loss: 0.2249\n",
      "Epoch: 069, Loss: 0.2265\n",
      "Epoch: 070, Loss: 0.2228\n",
      "Epoch: 071, Loss: 0.2334\n",
      "Epoch: 072, Loss: 0.2264\n",
      "Epoch: 073, Loss: 0.2273\n",
      "Epoch: 074, Loss: 0.2237\n",
      "Epoch: 075, Loss: 0.2250\n"
     ]
    },
    {
     "name": "stderr",
     "output_type": "stream",
     "text": [
      "100%|███████████████████████████████████████████| 2/2 [00:00<00:00, 2633.79it/s]"
     ]
    },
    {
     "name": "stdout",
     "output_type": "stream",
     "text": [
      "Epoch: 075, Val Mean Rank: 1705.50, Val Hits@10: 0.0000\n",
      "Epoch: 076, Loss: 0.2200\n",
      "Epoch: 077, Loss: 0.2185\n",
      "Epoch: 078, Loss: 0.2130\n",
      "Epoch: 079, Loss: 0.2147\n",
      "Epoch: 080, Loss: 0.2172\n",
      "Epoch: 081, Loss: 0.2083\n",
      "Epoch: 082, Loss: 0.2115\n",
      "Epoch: 083, Loss: 0.2117\n",
      "Epoch: 084, Loss: 0.2116\n",
      "Epoch: 085, Loss: 0.2039\n",
      "Epoch: 086, Loss: 0.2150\n",
      "Epoch: 087, Loss: 0.2072\n",
      "Epoch: 088, Loss: 0.2008\n",
      "Epoch: 089, Loss: 0.2029\n",
      "Epoch: 090, Loss: 0.2064\n",
      "Epoch: 091, Loss: 0.2033\n"
     ]
    },
    {
     "name": "stderr",
     "output_type": "stream",
     "text": [
      "\n"
     ]
    },
    {
     "name": "stdout",
     "output_type": "stream",
     "text": [
      "Epoch: 092, Loss: 0.1975\n",
      "Epoch: 093, Loss: 0.1944\n",
      "Epoch: 094, Loss: 0.1947\n",
      "Epoch: 095, Loss: 0.1963\n",
      "Epoch: 096, Loss: 0.1977\n",
      "Epoch: 097, Loss: 0.1985\n",
      "Epoch: 098, Loss: 0.1897\n",
      "Epoch: 099, Loss: 0.1925\n",
      "Epoch: 100, Loss: 0.1938\n"
     ]
    },
    {
     "name": "stderr",
     "output_type": "stream",
     "text": [
      "100%|███████████████████████████████████████████| 2/2 [00:00<00:00, 2589.08it/s]"
     ]
    },
    {
     "name": "stdout",
     "output_type": "stream",
     "text": [
      "Epoch: 100, Val Mean Rank: 1694.50, Val Hits@10: 0.0000\n",
      "Epoch: 101, Loss: 0.1953\n",
      "Epoch: 102, Loss: 0.1956\n",
      "Epoch: 103, Loss: 0.1905\n",
      "Epoch: 104, Loss: 0.1926\n",
      "Epoch: 105, Loss: 0.1924\n",
      "Epoch: 106, Loss: 0.1886\n",
      "Epoch: 107, Loss: 0.1869\n",
      "Epoch: 108, Loss: 0.1824\n",
      "Epoch: 109, Loss: 0.1915\n",
      "Epoch: 110, Loss: 0.1867\n",
      "Epoch: 111, Loss: 0.1815\n",
      "Epoch: 112, Loss: 0.1848\n",
      "Epoch: 113, Loss: 0.1849\n",
      "Epoch: 114, Loss: 0.1804\n",
      "Epoch: 115, Loss: 0.1824\n",
      "Epoch: 116, Loss: 0.1801\n"
     ]
    },
    {
     "name": "stderr",
     "output_type": "stream",
     "text": [
      "\n"
     ]
    },
    {
     "name": "stdout",
     "output_type": "stream",
     "text": [
      "Epoch: 117, Loss: 0.1850\n",
      "Epoch: 118, Loss: 0.1816\n",
      "Epoch: 119, Loss: 0.1813\n",
      "Epoch: 120, Loss: 0.1757\n",
      "Epoch: 121, Loss: 0.1720\n",
      "Epoch: 122, Loss: 0.1819\n",
      "Epoch: 123, Loss: 0.1787\n",
      "Epoch: 124, Loss: 0.1756\n",
      "Epoch: 125, Loss: 0.1750\n"
     ]
    },
    {
     "name": "stderr",
     "output_type": "stream",
     "text": [
      "100%|███████████████████████████████████████████| 2/2 [00:00<00:00, 2596.29it/s]"
     ]
    },
    {
     "name": "stdout",
     "output_type": "stream",
     "text": [
      "Epoch: 125, Val Mean Rank: 1719.00, Val Hits@10: 0.0000\n",
      "Epoch: 126, Loss: 0.1778\n",
      "Epoch: 127, Loss: 0.1745\n",
      "Epoch: 128, Loss: 0.1757\n",
      "Epoch: 129, Loss: 0.1749\n",
      "Epoch: 130, Loss: 0.1722\n",
      "Epoch: 131, Loss: 0.1688\n",
      "Epoch: 132, Loss: 0.1656\n",
      "Epoch: 133, Loss: 0.1734\n",
      "Epoch: 134, Loss: 0.1690\n",
      "Epoch: 135, Loss: 0.1661\n",
      "Epoch: 136, Loss: 0.1725\n",
      "Epoch: 137, Loss: 0.1637\n",
      "Epoch: 138, Loss: 0.1658\n",
      "Epoch: 139, Loss: 0.1722\n",
      "Epoch: 140, Loss: 0.1687\n",
      "Epoch: 141, Loss: 0.1663\n"
     ]
    },
    {
     "name": "stderr",
     "output_type": "stream",
     "text": [
      "\n"
     ]
    },
    {
     "name": "stdout",
     "output_type": "stream",
     "text": [
      "Epoch: 142, Loss: 0.1640\n",
      "Epoch: 143, Loss: 0.1649\n",
      "Epoch: 144, Loss: 0.1596\n",
      "Epoch: 145, Loss: 0.1640\n",
      "Epoch: 146, Loss: 0.1659\n",
      "Epoch: 147, Loss: 0.1680\n",
      "Epoch: 148, Loss: 0.1591\n",
      "Epoch: 149, Loss: 0.1606\n",
      "Epoch: 150, Loss: 0.1644\n"
     ]
    },
    {
     "name": "stderr",
     "output_type": "stream",
     "text": [
      "100%|███████████████████████████████████████████| 2/2 [00:00<00:00, 2621.44it/s]"
     ]
    },
    {
     "name": "stdout",
     "output_type": "stream",
     "text": [
      "Epoch: 150, Val Mean Rank: 1702.50, Val Hits@10: 0.0000\n",
      "Epoch: 151, Loss: 0.1715\n",
      "Epoch: 152, Loss: 0.1598\n",
      "Epoch: 153, Loss: 0.1653\n",
      "Epoch: 154, Loss: 0.1569\n",
      "Epoch: 155, Loss: 0.1621\n",
      "Epoch: 156, Loss: 0.1573\n",
      "Epoch: 157, Loss: 0.1655\n",
      "Epoch: 158, Loss: 0.1548\n",
      "Epoch: 159, Loss: 0.1592\n",
      "Epoch: 160, Loss: 0.1518\n",
      "Epoch: 161, Loss: 0.1636\n",
      "Epoch: 162, Loss: 0.1616\n",
      "Epoch: 163, Loss: 0.1609\n",
      "Epoch: 164, Loss: 0.1606\n",
      "Epoch: 165, Loss: 0.1629\n",
      "Epoch: 166, Loss: 0.1574\n",
      "Epoch: 167, Loss: 0.1549\n"
     ]
    },
    {
     "name": "stderr",
     "output_type": "stream",
     "text": [
      "\n"
     ]
    },
    {
     "name": "stdout",
     "output_type": "stream",
     "text": [
      "Epoch: 168, Loss: 0.1453\n",
      "Epoch: 169, Loss: 0.1484\n",
      "Epoch: 170, Loss: 0.1508\n",
      "Epoch: 171, Loss: 0.1578\n",
      "Epoch: 172, Loss: 0.1509\n",
      "Epoch: 173, Loss: 0.1521\n",
      "Epoch: 174, Loss: 0.1465\n",
      "Epoch: 175, Loss: 0.1538\n"
     ]
    },
    {
     "name": "stderr",
     "output_type": "stream",
     "text": [
      "100%|███████████████████████████████████████████| 2/2 [00:00<00:00, 2573.19it/s]"
     ]
    },
    {
     "name": "stdout",
     "output_type": "stream",
     "text": [
      "Epoch: 175, Val Mean Rank: 1707.00, Val Hits@10: 0.0000\n",
      "Epoch: 176, Loss: 0.1506\n",
      "Epoch: 177, Loss: 0.1480\n",
      "Epoch: 178, Loss: 0.1502\n",
      "Epoch: 179, Loss: 0.1540\n",
      "Epoch: 180, Loss: 0.1499\n",
      "Epoch: 181, Loss: 0.1447\n",
      "Epoch: 182, Loss: 0.1476\n",
      "Epoch: 183, Loss: 0.1528\n",
      "Epoch: 184, Loss: 0.1532\n",
      "Epoch: 185, Loss: 0.1551\n",
      "Epoch: 186, Loss: 0.1506\n",
      "Epoch: 187, Loss: 0.1470\n",
      "Epoch: 188, Loss: 0.1502\n",
      "Epoch: 189, Loss: 0.1447\n",
      "Epoch: 190, Loss: 0.1470\n",
      "Epoch: 191, Loss: 0.1452\n",
      "Epoch: 192, Loss: 0.1424\n"
     ]
    },
    {
     "name": "stderr",
     "output_type": "stream",
     "text": [
      "\n"
     ]
    },
    {
     "name": "stdout",
     "output_type": "stream",
     "text": [
      "Epoch: 193, Loss: 0.1463\n",
      "Epoch: 194, Loss: 0.1470\n",
      "Epoch: 195, Loss: 0.1442\n",
      "Epoch: 196, Loss: 0.1454\n",
      "Epoch: 197, Loss: 0.1442\n",
      "Epoch: 198, Loss: 0.1490\n",
      "Epoch: 199, Loss: 0.1381\n",
      "Epoch: 200, Loss: 0.1393\n"
     ]
    },
    {
     "name": "stderr",
     "output_type": "stream",
     "text": [
      "100%|███████████████████████████████████████████| 2/2 [00:00<00:00, 2431.48it/s]"
     ]
    },
    {
     "name": "stdout",
     "output_type": "stream",
     "text": [
      "Epoch: 200, Val Mean Rank: 1711.50, Val Hits@10: 0.0000\n",
      "Epoch: 201, Loss: 0.1446\n",
      "Epoch: 202, Loss: 0.1389\n",
      "Epoch: 203, Loss: 0.1408\n",
      "Epoch: 204, Loss: 0.1441\n",
      "Epoch: 205, Loss: 0.1448\n",
      "Epoch: 206, Loss: 0.1381\n",
      "Epoch: 207, Loss: 0.1440\n",
      "Epoch: 208, Loss: 0.1437\n",
      "Epoch: 209, Loss: 0.1463\n",
      "Epoch: 210, Loss: 0.1460\n",
      "Epoch: 211, Loss: 0.1376\n",
      "Epoch: 212, Loss: 0.1395\n",
      "Epoch: 213, Loss: 0.1399\n",
      "Epoch: 214, Loss: 0.1414\n",
      "Epoch: 215, Loss: 0.1384\n",
      "Epoch: 216, Loss: 0.1442\n",
      "Epoch: 217, Loss: 0.1386\n"
     ]
    },
    {
     "name": "stderr",
     "output_type": "stream",
     "text": [
      "\n"
     ]
    },
    {
     "name": "stdout",
     "output_type": "stream",
     "text": [
      "Epoch: 218, Loss: 0.1391\n",
      "Epoch: 219, Loss: 0.1315\n",
      "Epoch: 220, Loss: 0.1406\n",
      "Epoch: 221, Loss: 0.1342\n",
      "Epoch: 222, Loss: 0.1368\n",
      "Epoch: 223, Loss: 0.1394\n",
      "Epoch: 224, Loss: 0.1368\n",
      "Epoch: 225, Loss: 0.1374\n"
     ]
    },
    {
     "name": "stderr",
     "output_type": "stream",
     "text": [
      "100%|███████████████████████████████████████████| 2/2 [00:00<00:00, 2424.45it/s]"
     ]
    },
    {
     "name": "stdout",
     "output_type": "stream",
     "text": [
      "Epoch: 225, Val Mean Rank: 1671.50, Val Hits@10: 0.0000\n",
      "Epoch: 226, Loss: 0.1414\n",
      "Epoch: 227, Loss: 0.1338\n",
      "Epoch: 228, Loss: 0.1373\n",
      "Epoch: 229, Loss: 0.1358\n",
      "Epoch: 230, Loss: 0.1408\n",
      "Epoch: 231, Loss: 0.1349\n",
      "Epoch: 232, Loss: 0.1351\n",
      "Epoch: 233, Loss: 0.1321\n",
      "Epoch: 234, Loss: 0.1343\n",
      "Epoch: 235, Loss: 0.1312\n",
      "Epoch: 236, Loss: 0.1407\n",
      "Epoch: 237, Loss: 0.1302\n",
      "Epoch: 238, Loss: 0.1314\n",
      "Epoch: 239, Loss: 0.1313\n",
      "Epoch: 240, Loss: 0.1298\n",
      "Epoch: 241, Loss: 0.1339\n"
     ]
    },
    {
     "name": "stderr",
     "output_type": "stream",
     "text": [
      "\n"
     ]
    },
    {
     "name": "stdout",
     "output_type": "stream",
     "text": [
      "Epoch: 242, Loss: 0.1320\n",
      "Epoch: 243, Loss: 0.1325\n",
      "Epoch: 244, Loss: 0.1328\n",
      "Epoch: 245, Loss: 0.1377\n",
      "Epoch: 246, Loss: 0.1327\n",
      "Epoch: 247, Loss: 0.1320\n",
      "Epoch: 248, Loss: 0.1391\n",
      "Epoch: 249, Loss: 0.1290\n",
      "Epoch: 250, Loss: 0.1365\n"
     ]
    },
    {
     "name": "stderr",
     "output_type": "stream",
     "text": [
      "100%|███████████████████████████████████████████| 2/2 [00:00<00:00, 2387.20it/s]"
     ]
    },
    {
     "name": "stdout",
     "output_type": "stream",
     "text": [
      "Epoch: 250, Val Mean Rank: 1680.00, Val Hits@10: 0.0000\n",
      "Epoch: 251, Loss: 0.1256\n",
      "Epoch: 252, Loss: 0.1309\n",
      "Epoch: 253, Loss: 0.1312\n",
      "Epoch: 254, Loss: 0.1267\n",
      "Epoch: 255, Loss: 0.1301\n",
      "Epoch: 256, Loss: 0.1310\n",
      "Epoch: 257, Loss: 0.1315\n",
      "Epoch: 258, Loss: 0.1300\n",
      "Epoch: 259, Loss: 0.1301\n",
      "Epoch: 260, Loss: 0.1289\n",
      "Epoch: 261, Loss: 0.1225\n",
      "Epoch: 262, Loss: 0.1367\n",
      "Epoch: 263, Loss: 0.1276\n",
      "Epoch: 264, Loss: 0.1299\n",
      "Epoch: 265, Loss: 0.1299\n",
      "Epoch: 266, Loss: 0.1309\n",
      "Epoch: 267, Loss: 0.1235\n"
     ]
    },
    {
     "name": "stderr",
     "output_type": "stream",
     "text": [
      "\n"
     ]
    },
    {
     "name": "stdout",
     "output_type": "stream",
     "text": [
      "Epoch: 268, Loss: 0.1323\n",
      "Epoch: 269, Loss: 0.1296\n",
      "Epoch: 270, Loss: 0.1315\n",
      "Epoch: 271, Loss: 0.1236\n",
      "Epoch: 272, Loss: 0.1267\n",
      "Epoch: 273, Loss: 0.1260\n",
      "Epoch: 274, Loss: 0.1301\n",
      "Epoch: 275, Loss: 0.1330\n"
     ]
    },
    {
     "name": "stderr",
     "output_type": "stream",
     "text": [
      "100%|███████████████████████████████████████████| 2/2 [00:00<00:00, 2305.83it/s]"
     ]
    },
    {
     "name": "stdout",
     "output_type": "stream",
     "text": [
      "Epoch: 275, Val Mean Rank: 1693.50, Val Hits@10: 0.0000\n",
      "Epoch: 276, Loss: 0.1322\n",
      "Epoch: 277, Loss: 0.1243\n",
      "Epoch: 278, Loss: 0.1288\n",
      "Epoch: 279, Loss: 0.1255\n",
      "Epoch: 280, Loss: 0.1305\n",
      "Epoch: 281, Loss: 0.1278\n",
      "Epoch: 282, Loss: 0.1268\n",
      "Epoch: 283, Loss: 0.1246\n",
      "Epoch: 284, Loss: 0.1263\n",
      "Epoch: 285, Loss: 0.1282\n",
      "Epoch: 286, Loss: 0.1281\n",
      "Epoch: 287, Loss: 0.1278\n",
      "Epoch: 288, Loss: 0.1281\n",
      "Epoch: 289, Loss: 0.1260\n",
      "Epoch: 290, Loss: 0.1249\n",
      "Epoch: 291, Loss: 0.1261\n",
      "Epoch: 292, Loss: 0.1243\n",
      "Epoch: 293, Loss: 0.1232\n",
      "Epoch: 294, Loss: 0.1259\n"
     ]
    },
    {
     "name": "stderr",
     "output_type": "stream",
     "text": [
      "\n"
     ]
    },
    {
     "name": "stdout",
     "output_type": "stream",
     "text": [
      "Epoch: 295, Loss: 0.1260\n",
      "Epoch: 296, Loss: 0.1282\n",
      "Epoch: 297, Loss: 0.1216\n",
      "Epoch: 298, Loss: 0.1270\n",
      "Epoch: 299, Loss: 0.1287\n",
      "Epoch: 300, Loss: 0.1202\n"
     ]
    },
    {
     "name": "stderr",
     "output_type": "stream",
     "text": [
      "100%|███████████████████████████████████████████| 2/2 [00:00<00:00, 2501.08it/s]"
     ]
    },
    {
     "name": "stdout",
     "output_type": "stream",
     "text": [
      "Epoch: 300, Val Mean Rank: 1676.50, Val Hits@10: 0.0000\n",
      "Epoch: 301, Loss: 0.1227\n",
      "Epoch: 302, Loss: 0.1262\n",
      "Epoch: 303, Loss: 0.1292\n",
      "Epoch: 304, Loss: 0.1246\n",
      "Epoch: 305, Loss: 0.1190\n",
      "Epoch: 306, Loss: 0.1231\n",
      "Epoch: 307, Loss: 0.1204\n",
      "Epoch: 308, Loss: 0.1208\n",
      "Epoch: 309, Loss: 0.1188\n",
      "Epoch: 310, Loss: 0.1242\n",
      "Epoch: 311, Loss: 0.1273\n",
      "Epoch: 312, Loss: 0.1189\n",
      "Epoch: 313, Loss: 0.1285\n",
      "Epoch: 314, Loss: 0.1166\n",
      "Epoch: 315, Loss: 0.1221\n",
      "Epoch: 316, Loss: 0.1220\n",
      "Epoch: 317, Loss: 0.1231\n",
      "Epoch: 318, Loss: 0.1209\n",
      "Epoch: 319, Loss: 0.1276\n",
      "Epoch: 320, Loss: 0.1191\n"
     ]
    },
    {
     "name": "stderr",
     "output_type": "stream",
     "text": [
      "\n"
     ]
    },
    {
     "name": "stdout",
     "output_type": "stream",
     "text": [
      "Epoch: 321, Loss: 0.1243\n",
      "Epoch: 322, Loss: 0.1231\n",
      "Epoch: 323, Loss: 0.1256\n",
      "Epoch: 324, Loss: 0.1200\n",
      "Epoch: 325, Loss: 0.1256\n"
     ]
    },
    {
     "name": "stderr",
     "output_type": "stream",
     "text": [
      "100%|███████████████████████████████████████████| 2/2 [00:00<00:00, 2394.01it/s]"
     ]
    },
    {
     "name": "stdout",
     "output_type": "stream",
     "text": [
      "Epoch: 325, Val Mean Rank: 1686.00, Val Hits@10: 0.0000\n",
      "Epoch: 326, Loss: 0.1181\n",
      "Epoch: 327, Loss: 0.1182\n",
      "Epoch: 328, Loss: 0.1214\n",
      "Epoch: 329, Loss: 0.1227\n",
      "Epoch: 330, Loss: 0.1198\n",
      "Epoch: 331, Loss: 0.1221\n",
      "Epoch: 332, Loss: 0.1161\n",
      "Epoch: 333, Loss: 0.1166\n",
      "Epoch: 334, Loss: 0.1178\n",
      "Epoch: 335, Loss: 0.1185\n",
      "Epoch: 336, Loss: 0.1160\n",
      "Epoch: 337, Loss: 0.1159\n",
      "Epoch: 338, Loss: 0.1189\n",
      "Epoch: 339, Loss: 0.1201\n",
      "Epoch: 340, Loss: 0.1199\n",
      "Epoch: 341, Loss: 0.1171\n",
      "Epoch: 342, Loss: 0.1163\n",
      "Epoch: 343, Loss: 0.1167\n"
     ]
    },
    {
     "name": "stderr",
     "output_type": "stream",
     "text": [
      "\n"
     ]
    },
    {
     "name": "stdout",
     "output_type": "stream",
     "text": [
      "Epoch: 344, Loss: 0.1238\n",
      "Epoch: 345, Loss: 0.1161\n",
      "Epoch: 346, Loss: 0.1173\n",
      "Epoch: 347, Loss: 0.1188\n",
      "Epoch: 348, Loss: 0.1141\n",
      "Epoch: 349, Loss: 0.1115\n",
      "Epoch: 350, Loss: 0.1207\n"
     ]
    },
    {
     "name": "stderr",
     "output_type": "stream",
     "text": [
      "100%|███████████████████████████████████████████| 2/2 [00:00<00:00, 2413.29it/s]"
     ]
    },
    {
     "name": "stdout",
     "output_type": "stream",
     "text": [
      "Epoch: 350, Val Mean Rank: 1635.00, Val Hits@10: 0.0000\n",
      "Epoch: 351, Loss: 0.1181\n",
      "Epoch: 352, Loss: 0.1207\n",
      "Epoch: 353, Loss: 0.1221\n",
      "Epoch: 354, Loss: 0.1168\n",
      "Epoch: 355, Loss: 0.1178\n",
      "Epoch: 356, Loss: 0.1192\n",
      "Epoch: 357, Loss: 0.1168\n",
      "Epoch: 358, Loss: 0.1170\n",
      "Epoch: 359, Loss: 0.1141\n",
      "Epoch: 360, Loss: 0.1138\n",
      "Epoch: 361, Loss: 0.1190\n",
      "Epoch: 362, Loss: 0.1179\n",
      "Epoch: 363, Loss: 0.1169\n",
      "Epoch: 364, Loss: 0.1138\n",
      "Epoch: 365, Loss: 0.1134\n",
      "Epoch: 366, Loss: 0.1168\n",
      "Epoch: 367, Loss: 0.1183\n",
      "Epoch: 368, Loss: 0.1178\n"
     ]
    },
    {
     "name": "stderr",
     "output_type": "stream",
     "text": [
      "\n"
     ]
    },
    {
     "name": "stdout",
     "output_type": "stream",
     "text": [
      "Epoch: 369, Loss: 0.1185\n",
      "Epoch: 370, Loss: 0.1157\n",
      "Epoch: 371, Loss: 0.1191\n",
      "Epoch: 372, Loss: 0.1141\n",
      "Epoch: 373, Loss: 0.1175\n",
      "Epoch: 374, Loss: 0.1192\n",
      "Epoch: 375, Loss: 0.1163\n"
     ]
    },
    {
     "name": "stderr",
     "output_type": "stream",
     "text": [
      "100%|███████████████████████████████████████████| 2/2 [00:00<00:00, 1793.97it/s]"
     ]
    },
    {
     "name": "stdout",
     "output_type": "stream",
     "text": [
      "Epoch: 375, Val Mean Rank: 1650.50, Val Hits@10: 0.0000\n",
      "Epoch: 376, Loss: 0.1180\n",
      "Epoch: 377, Loss: 0.1124\n",
      "Epoch: 378, Loss: 0.1090\n",
      "Epoch: 379, Loss: 0.1153\n",
      "Epoch: 380, Loss: 0.1174\n",
      "Epoch: 381, Loss: 0.1158\n",
      "Epoch: 382, Loss: 0.1154\n",
      "Epoch: 383, Loss: 0.1136\n",
      "Epoch: 384, Loss: 0.1130\n",
      "Epoch: 385, Loss: 0.1127\n",
      "Epoch: 386, Loss: 0.1138\n",
      "Epoch: 387, Loss: 0.1150\n",
      "Epoch: 388, Loss: 0.1133\n",
      "Epoch: 389, Loss: 0.1157\n",
      "Epoch: 390, Loss: 0.1128\n",
      "Epoch: 391, Loss: 0.1136\n",
      "Epoch: 392, Loss: 0.1173\n",
      "Epoch: 393, Loss: 0.1107\n",
      "Epoch: 394, Loss: 0.1153\n"
     ]
    },
    {
     "name": "stderr",
     "output_type": "stream",
     "text": [
      "\n"
     ]
    },
    {
     "name": "stdout",
     "output_type": "stream",
     "text": [
      "Epoch: 395, Loss: 0.1151\n",
      "Epoch: 396, Loss: 0.1152\n",
      "Epoch: 397, Loss: 0.1108\n",
      "Epoch: 398, Loss: 0.1064\n",
      "Epoch: 399, Loss: 0.1126\n",
      "Epoch: 400, Loss: 0.1129\n"
     ]
    },
    {
     "name": "stderr",
     "output_type": "stream",
     "text": [
      "100%|███████████████████████████████████████████| 2/2 [00:00<00:00, 2178.29it/s]"
     ]
    },
    {
     "name": "stdout",
     "output_type": "stream",
     "text": [
      "Epoch: 400, Val Mean Rank: 1586.00, Val Hits@10: 0.0000\n",
      "Epoch: 401, Loss: 0.1062\n",
      "Epoch: 402, Loss: 0.1138\n",
      "Epoch: 403, Loss: 0.1119\n",
      "Epoch: 404, Loss: 0.1112\n",
      "Epoch: 405, Loss: 0.1080\n",
      "Epoch: 406, Loss: 0.1116\n",
      "Epoch: 407, Loss: 0.1118\n",
      "Epoch: 408, Loss: 0.1117\n",
      "Epoch: 409, Loss: 0.1148\n",
      "Epoch: 410, Loss: 0.1092\n",
      "Epoch: 411, Loss: 0.1126\n",
      "Epoch: 412, Loss: 0.1145\n",
      "Epoch: 413, Loss: 0.1096\n",
      "Epoch: 414, Loss: 0.1166\n",
      "Epoch: 415, Loss: 0.1101\n",
      "Epoch: 416, Loss: 0.1132\n",
      "Epoch: 417, Loss: 0.1096\n",
      "Epoch: 418, Loss: 0.1114\n",
      "Epoch: 419, Loss: 0.1145\n"
     ]
    },
    {
     "name": "stderr",
     "output_type": "stream",
     "text": [
      "\n"
     ]
    },
    {
     "name": "stdout",
     "output_type": "stream",
     "text": [
      "Epoch: 420, Loss: 0.1136\n",
      "Epoch: 421, Loss: 0.1104\n",
      "Epoch: 422, Loss: 0.1101\n",
      "Epoch: 423, Loss: 0.1072\n",
      "Epoch: 424, Loss: 0.1131\n",
      "Epoch: 425, Loss: 0.1085\n"
     ]
    },
    {
     "name": "stderr",
     "output_type": "stream",
     "text": [
      "100%|███████████████████████████████████████████| 2/2 [00:00<00:00, 1680.75it/s]"
     ]
    },
    {
     "name": "stdout",
     "output_type": "stream",
     "text": [
      "Epoch: 425, Val Mean Rank: 1596.00, Val Hits@10: 0.0000\n",
      "Epoch: 426, Loss: 0.1055\n",
      "Epoch: 427, Loss: 0.1081\n",
      "Epoch: 428, Loss: 0.1107\n",
      "Epoch: 429, Loss: 0.1062\n",
      "Epoch: 430, Loss: 0.1190\n",
      "Epoch: 431, Loss: 0.1084\n",
      "Epoch: 432, Loss: 0.1082\n",
      "Epoch: 433, Loss: 0.1043\n",
      "Epoch: 434, Loss: 0.1101\n",
      "Epoch: 435, Loss: 0.1099\n",
      "Epoch: 436, Loss: 0.1053\n",
      "Epoch: 437, Loss: 0.1067\n",
      "Epoch: 438, Loss: 0.1104\n",
      "Epoch: 439, Loss: 0.1115\n",
      "Epoch: 440, Loss: 0.1088\n",
      "Epoch: 441, Loss: 0.1052\n",
      "Epoch: 442, Loss: 0.1045\n",
      "Epoch: 443, Loss: 0.1114\n"
     ]
    },
    {
     "name": "stderr",
     "output_type": "stream",
     "text": [
      "\n"
     ]
    },
    {
     "name": "stdout",
     "output_type": "stream",
     "text": [
      "Epoch: 444, Loss: 0.1092\n",
      "Epoch: 445, Loss: 0.1070\n",
      "Epoch: 446, Loss: 0.1107\n",
      "Epoch: 447, Loss: 0.1142\n",
      "Epoch: 448, Loss: 0.1125\n",
      "Epoch: 449, Loss: 0.1097\n",
      "Epoch: 450, Loss: 0.1082\n"
     ]
    },
    {
     "name": "stderr",
     "output_type": "stream",
     "text": [
      "100%|███████████████████████████████████████████| 2/2 [00:00<00:00, 2300.77it/s]"
     ]
    },
    {
     "name": "stdout",
     "output_type": "stream",
     "text": [
      "Epoch: 450, Val Mean Rank: 1606.50, Val Hits@10: 0.0000\n",
      "Epoch: 451, Loss: 0.1099\n",
      "Epoch: 452, Loss: 0.1036\n",
      "Epoch: 453, Loss: 0.1104\n",
      "Epoch: 454, Loss: 0.1078\n",
      "Epoch: 455, Loss: 0.1079\n",
      "Epoch: 456, Loss: 0.1072\n",
      "Epoch: 457, Loss: 0.1095\n",
      "Epoch: 458, Loss: 0.1101\n",
      "Epoch: 459, Loss: 0.1067\n",
      "Epoch: 460, Loss: 0.1052\n",
      "Epoch: 461, Loss: 0.1066\n",
      "Epoch: 462, Loss: 0.1041\n",
      "Epoch: 463, Loss: 0.1081\n",
      "Epoch: 464, Loss: 0.1067\n",
      "Epoch: 465, Loss: 0.1065\n",
      "Epoch: 466, Loss: 0.1063\n",
      "Epoch: 467, Loss: 0.1070\n",
      "Epoch: 468, Loss: 0.1065\n",
      "Epoch: 469, Loss: 0.1059\n",
      "Epoch: 470, Loss: 0.1097\n"
     ]
    },
    {
     "name": "stderr",
     "output_type": "stream",
     "text": [
      "\n"
     ]
    },
    {
     "name": "stdout",
     "output_type": "stream",
     "text": [
      "Epoch: 471, Loss: 0.1081\n",
      "Epoch: 472, Loss: 0.1105\n",
      "Epoch: 473, Loss: 0.1069\n",
      "Epoch: 474, Loss: 0.1045\n",
      "Epoch: 475, Loss: 0.1129\n"
     ]
    },
    {
     "name": "stderr",
     "output_type": "stream",
     "text": [
      "100%|███████████████████████████████████████████| 2/2 [00:00<00:00, 2950.62it/s]"
     ]
    },
    {
     "name": "stdout",
     "output_type": "stream",
     "text": [
      "Epoch: 475, Val Mean Rank: 1614.00, Val Hits@10: 0.0000\n",
      "Epoch: 476, Loss: 0.1052\n",
      "Epoch: 477, Loss: 0.1069\n",
      "Epoch: 478, Loss: 0.1091\n",
      "Epoch: 479, Loss: 0.1039\n",
      "Epoch: 480, Loss: 0.1112\n",
      "Epoch: 481, Loss: 0.1043\n",
      "Epoch: 482, Loss: 0.1065\n",
      "Epoch: 483, Loss: 0.1032\n",
      "Epoch: 484, Loss: 0.1133\n",
      "Epoch: 485, Loss: 0.1027\n",
      "Epoch: 486, Loss: 0.1090\n",
      "Epoch: 487, Loss: 0.1085\n",
      "Epoch: 488, Loss: 0.1059\n",
      "Epoch: 489, Loss: 0.1062\n",
      "Epoch: 490, Loss: 0.1111\n",
      "Epoch: 491, Loss: 0.1117\n",
      "Epoch: 492, Loss: 0.1045\n",
      "Epoch: 493, Loss: 0.1057\n"
     ]
    },
    {
     "name": "stderr",
     "output_type": "stream",
     "text": [
      "\n"
     ]
    },
    {
     "name": "stdout",
     "output_type": "stream",
     "text": [
      "Epoch: 494, Loss: 0.1053\n",
      "Epoch: 495, Loss: 0.1038\n",
      "Epoch: 496, Loss: 0.0994\n",
      "Epoch: 497, Loss: 0.1029\n",
      "Epoch: 498, Loss: 0.1057\n",
      "Epoch: 499, Loss: 0.1086\n",
      "Epoch: 500, Loss: 0.1050\n"
     ]
    },
    {
     "name": "stderr",
     "output_type": "stream",
     "text": [
      "100%|███████████████████████████████████████████| 2/2 [00:00<00:00, 2484.04it/s]"
     ]
    },
    {
     "name": "stdout",
     "output_type": "stream",
     "text": [
      "Epoch: 500, Val Mean Rank: 1586.50, Val Hits@10: 0.0000\n"
     ]
    },
    {
     "name": "stderr",
     "output_type": "stream",
     "text": [
      "\n"
     ]
    }
   ],
   "source": [
    "for epoch in range(1, 501):\n",
    "    loss = train()\n",
    "    print(f'Epoch: {epoch:03d}, Loss: {loss:.4f}')\n",
    "    if epoch % 25 == 0:\n",
    "        rank, hits = test(val_data)\n",
    "        print(f'Epoch: {epoch:03d}, Val Mean Rank: {rank:.2f}, '\n",
    "              f'Val Hits@10: {hits:.4f}')"
   ]
  },
  {
   "cell_type": "code",
   "execution_count": null,
   "id": "ce05da58",
   "metadata": {},
   "outputs": [],
   "source": []
  }
 ],
 "metadata": {
  "kernelspec": {
   "display_name": "Python 3 (ipykernel)",
   "language": "python",
   "name": "python3"
  },
  "language_info": {
   "codemirror_mode": {
    "name": "ipython",
    "version": 3
   },
   "file_extension": ".py",
   "mimetype": "text/x-python",
   "name": "python",
   "nbconvert_exporter": "python",
   "pygments_lexer": "ipython3",
   "version": "3.10.11"
  }
 },
 "nbformat": 4,
 "nbformat_minor": 5
}
