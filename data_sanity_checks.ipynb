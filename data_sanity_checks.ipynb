{
 "cells": [
  {
   "cell_type": "code",
   "execution_count": null,
   "metadata": {
    "collapsed": true
   },
   "outputs": [],
   "source": [
    "import pandas as pd\n",
    "import matplotlib.pyplot as plt"
   ]
  },
  {
   "cell_type": "code",
   "execution_count": null,
   "outputs": [],
   "source": [
    "DATA_PATH_PPI = \"./NBFNet/data/lnctard/train1-ppi.txt\"\n",
    "DATA_PATH_TEST = \"./NBFNet/data/lnctard/test.txt\"\n",
    "PATH_ENTITY_TYPES = \"/Users/lisa/Documents/Uni/ML4RG/linkpred/NBFNet/data/lnctard/entity_types_lnctardppi.txt\""
   ],
   "metadata": {
    "collapsed": false
   }
  },
  {
   "cell_type": "code",
   "execution_count": null,
   "outputs": [],
   "source": [
    "def check_node_overlap(path_ppi, path_file2check):\n",
    "    df_ppi = pd.read_csv(path_ppi,sep=\"\\t\", encoding=\"latin-1\",names = [\"head\", \"tail\"], usecols=[0,2]).drop_duplicates(ignore_index=True)\n",
    "    df_2check = pd.read_csv(path_file2check, sep=\"\\t\", names = [\"head\", \"tail\"], usecols=[0,2])\n",
    "    df_ppi[\"index\"], df_2check[\"index\"] = df_ppi.index, df_2check.index\n",
    "    df_ppi['key'] = df_ppi[[\"head\", \"tail\"]].apply(lambda row: tuple(sorted(row)), axis=1)\n",
    "    df_2check['key'] = df_2check[[\"head\", \"tail\"]].apply(lambda row: tuple(sorted(row)), axis=1)\n",
    "    overlap = pd.merge(df_ppi, df_2check, how='inner', on=\"key\")\n",
    "    return overlap\n"
   ],
   "metadata": {
    "collapsed": false
   }
  },
  {
   "cell_type": "code",
   "execution_count": null,
   "outputs": [],
   "source": [
    "df = pd.read_csv(DATA_PATH_TEST, names=[\"head\", \"relation\", \"tail\"], sep=\"\\t\")"
   ],
   "metadata": {
    "collapsed": false
   }
  },
  {
   "cell_type": "code",
   "execution_count": null,
   "outputs": [],
   "source": [
    "#checks how many different nodepairs exist for each relation\n",
    "rel_types = df.groupby(by=\"relation\").nunique().plot(\n",
    "    kind=\"bar\",\n",
    "    ylabel=\"# of occurrences\", rot=45,\n",
    "  )"
   ],
   "metadata": {
    "collapsed": false
   }
  },
  {
   "cell_type": "code",
   "execution_count": null,
   "outputs": [],
   "source": [
    "#checks how many samples exist for each relation\n",
    "rel_types_occurance = df.groupby(by='relation').size()\n"
   ],
   "metadata": {
    "collapsed": false
   }
  },
  {
   "cell_type": "code",
   "execution_count": null,
   "outputs": [],
   "source": [
    "heads = df.groupby(by=\"head\").size()\n",
    "tails = df.groupby(by=\"tail\").size()"
   ],
   "metadata": {
    "collapsed": false
   }
  },
  {
   "cell_type": "code",
   "execution_count": null,
   "outputs": [],
   "source": [
    "df_entities = pd.read_csv(PATH_ENTITY_TYPES, sep=\"\\t\", usecols=[1])\n",
    "df.isna().sum()"
   ],
   "metadata": {
    "collapsed": false
   }
  },
  {
   "cell_type": "code",
   "execution_count": null,
   "outputs": [],
   "source": [],
   "metadata": {
    "collapsed": false
   }
  }
 ],
 "metadata": {
  "kernelspec": {
   "display_name": "Python 3",
   "language": "python",
   "name": "python3"
  },
  "language_info": {
   "codemirror_mode": {
    "name": "ipython",
    "version": 2
   },
   "file_extension": ".py",
   "mimetype": "text/x-python",
   "name": "python",
   "nbconvert_exporter": "python",
   "pygments_lexer": "ipython2",
   "version": "2.7.6"
  }
 },
 "nbformat": 4,
 "nbformat_minor": 0
}
